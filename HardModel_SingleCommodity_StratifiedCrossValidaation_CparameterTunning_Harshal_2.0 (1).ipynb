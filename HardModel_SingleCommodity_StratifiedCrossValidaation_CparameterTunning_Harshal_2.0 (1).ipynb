{
 "cells": [
  {
   "cell_type": "code",
   "execution_count": 1,
   "metadata": {},
   "outputs": [
    {
     "data": {
      "text/plain": [
       "'4.0.25'"
      ]
     },
     "execution_count": 1,
     "metadata": {},
     "output_type": "execute_result"
    }
   ],
   "source": [
    "#!pip install -Iv pyodbc \n",
    "import pyodbc  # gets latest version.  Needs to be at least 4.0.19 for fastwrites.\n",
    "pyodbc.version"
   ]
  },
  {
   "cell_type": "code",
   "execution_count": 2,
   "metadata": {},
   "outputs": [
    {
     "name": "stdout",
     "output_type": "stream",
     "text": [
      "Requirement already satisfied: flashtext in /opt/microsoft/mlserver/9.2.1/runtime/python/lib/python3.5/site-packages\n",
      "\u001b[33mYou are using pip version 9.0.1, however version 18.1 is available.\n",
      "You should consider upgrading via the 'pip install --upgrade pip' command.\u001b[0m\n"
     ]
    }
   ],
   "source": [
    "import sys\n",
    "import pandas as pd\n",
    "import numpy as np\n",
    "from sklearn.externals import joblib\n",
    "import requests\n",
    "from microsoftml import rx_logistic_regression, rx_fast_trees, rx_predict, \\\n",
    "                        mutualinformation_select, rx_neural_network, n_gram, \\\n",
    "                        categorical, categorical_hash, n_gram_hash, featurize_text\n",
    "#import pyodbc\n",
    "import pickle\n",
    "import os\n",
    "import time \n",
    "import datetime as dt\n",
    "import string\n",
    "from sklearn import metrics\n",
    "from IPython.display import display\n",
    "\n",
    "# custom functions\n",
    "import sys\n",
    "import os\n",
    "\n",
    "from analysis_pipeline import get_match5,plot_match5,plot_acc,full_analysis\n",
    "\n",
    "!pip install flashtext\n",
    "from flashtext import KeywordProcessor\n",
    "\n",
    "%matplotlib inline\n"
   ]
  },
  {
   "cell_type": "code",
   "execution_count": 3,
   "metadata": {
    "collapsed": true
   },
   "outputs": [],
   "source": [
    "def get_training_2data_():\n",
    "\n",
    "    # reads data\n",
    "    conn = pyodbc.connect(\n",
    "        \n",
    "        #  Connection Parameters Here\n",
    "    )\n",
    "\n",
    "\n",
    "    sql = \"\"\"\n",
    "            ### SQL Query here to fetch data\n",
    "         \n",
    "            \"\"\"\n",
    "\n",
    "    print('Reading Data')\n",
    "    ds_hard = pd.read_sql(sql,conn)\n",
    "    conn.close()\n",
    "\n",
    "    \n",
    "\n",
    "    return ds_hard  # return test data\n"
   ]
  },
  {
   "cell_type": "code",
   "execution_count": 211,
   "metadata": {},
   "outputs": [
    {
     "name": "stdout",
     "output_type": "stream",
     "text": [
      "Reading Data\n"
     ]
    }
   ],
   "source": [
    "ds_hard = get_training_2data_()\n"
   ]
  },
  {
   "cell_type": "code",
   "execution_count": 214,
   "metadata": {},
   "outputs": [
    {
     "data": {
      "text/plain": [
       "hard_drive                   71282\n",
       "motherboard                  57498\n",
       "keyboard                     22996\n",
       "battery                      20580\n",
       "chassis                      16847\n",
       "lcd                          13982\n",
       "dock                          7639\n",
       "ac_adapter                    6790\n",
       "mouse                         5738\n",
       "cables                        5691\n",
       "power_supply                  5223\n",
       "heatsink                      4540\n",
       "flat_panel_display            4185\n",
       "wlan                          3838\n",
       "operating_system              3260\n",
       "fan                           3071\n",
       "pcba_misc                     3013\n",
       "speaker                       2838\n",
       "optical_drive                 2533\n",
       "memory                        2095\n",
       "graphics_card                 1520\n",
       "electrical_components         1287\n",
       "touchpad                      1232\n",
       "printer                       1015\n",
       "camera                         303\n",
       "mechanical_hardware            212\n",
       "processor                      151\n",
       "peripherals                     63\n",
       "media                           51\n",
       "network_card                    46\n",
       "                             ...  \n",
       "wlan(65)                         1\n",
       "lcd(14)                          1\n",
       "motherboard(17)                  1\n",
       "battery(136)                     1\n",
       "pcba_misc(20)                    1\n",
       "power_supply(17)                 1\n",
       "wlan(55)                         1\n",
       "electrical_components(40)        1\n",
       "(140)                            1\n",
       "wlan(36)                         1\n",
       "chassis(18)                      1\n",
       "wlan(120)                        1\n",
       "cables(14)                       1\n",
       "battery(200)                     1\n",
       "ac_adapter(44)                   1\n",
       "mouse(30)                        1\n",
       "battery(47)                      1\n",
       "keyboard(95)                     1\n",
       "wlan(70)                         1\n",
       "chassis(96)                      1\n",
       "wlan(75)                         1\n",
       "battery(67)                      1\n",
       "wlan(60)                         1\n",
       "mouse(14)                        1\n",
       "ac_adapter(27)                   1\n",
       "battery(37)                      1\n",
       "chassis(21)                      1\n",
       "battery(55)                      1\n",
       "pcba_misc(30)                    1\n",
       "cables(17)                       1\n",
       "Name: commodity_list, dtype: int64"
      ]
     },
     "execution_count": 214,
     "metadata": {},
     "output_type": "execute_result"
    }
   ],
   "source": [
    "ds_hard.commodity_list.value_counts()"
   ]
  },
  {
   "cell_type": "code",
   "execution_count": 215,
   "metadata": {},
   "outputs": [
    {
     "data": {
      "text/plain": [
       "lcd        13982\n",
       "lcd(14)        1\n",
       "Name: commodity_list, dtype: int64"
      ]
     },
     "execution_count": 215,
     "metadata": {},
     "output_type": "execute_result"
    }
   ],
   "source": [
    "ds_hard[ds_hard.commodity_list.str.contains('lcd')].commodity_list.value_counts()"
   ]
  },
  {
   "cell_type": "code",
   "execution_count": 216,
   "metadata": {},
   "outputs": [
    {
     "data": {
      "text/plain": [
       "(269719, 12)"
      ]
     },
     "execution_count": 216,
     "metadata": {},
     "output_type": "execute_result"
    }
   ],
   "source": [
    "ds_hard.shape"
   ]
  },
  {
   "cell_type": "code",
   "execution_count": 217,
   "metadata": {
    "collapsed": true
   },
   "outputs": [],
   "source": [
    "def data_2cleanup(ds1):\n",
    "    import re\n",
    "    import string\n",
    "    rem = string.punctuation\n",
    "    pattern = r\"[{}]\".format(rem)\n",
    "    #pattern = pattern.replace('_', '') # makes sure that we keep the underscores\n",
    "    \n",
    "    # new line to be added for punctuation fix\n",
    "    regex_pat = re.compile(pattern, flags=re.IGNORECASE)\n",
    "    \n",
    "    # Dont need this due to ngrams:\n",
    "    #for each in ['product_desc', 'brand_desc']:\n",
    "    #    ds1[each] = ds1[each].astype(str) + ' ' + ds1[each].str.replace(' ', '')\n",
    "        \n",
    "    ds1['input_data'] = ds1['X_ISP_SR_TITLE'].astype(str) + ' ' + ds1.product_desc + ' ' + ds1.brand_desc + ' ' + ds1.fmly_desc\n",
    "    for col in ['X_ISP_SR_TITLE', 'product_desc', 'brand_desc', 'fmly_desc', 'input_data']:\n",
    "    \n",
    "        ds1[col] = ds1[col].str.lower().replace(regex_pat, ' ').apply(lambda x:  ' '.join(str(x).split()) if x else x)\n",
    "    \n",
    "    return ds1"
   ]
  },
  {
   "cell_type": "code",
   "execution_count": 218,
   "metadata": {
    "collapsed": true
   },
   "outputs": [],
   "source": [
    "def make_2syn_dict():\n",
    "    # ----------------- Import all the stopwords/synonyms -----------------\n",
    "    conn = pyodbc.connect(\n",
    "##  COnnection Parameters here\n",
    "    ) \n",
    " \n",
    "    sql = \"\"\"\n",
    "## SQL query to fetch data\n",
    "\"\"\"\n",
    "\n",
    "    syndf = pd.read_sql(sql,conn)\n",
    "   \n",
    "    syn_dict = dict(zip(syndf['term'].str.lower(),syndf['Replacement'].str.lower()))\n",
    "    \n",
    "    conn.close()\n",
    "    return syn_dict"
   ]
  },
  {
   "cell_type": "code",
   "execution_count": 219,
   "metadata": {
    "collapsed": true
   },
   "outputs": [],
   "source": [
    "from collections import defaultdict"
   ]
  },
  {
   "cell_type": "code",
   "execution_count": 220,
   "metadata": {
    "collapsed": true
   },
   "outputs": [],
   "source": [
    "front_end_syn_dict = make_2syn_dict()"
   ]
  },
  {
   "cell_type": "code",
   "execution_count": 221,
   "metadata": {},
   "outputs": [
    {
     "data": {
      "text/plain": [
       "'activation code'"
      ]
     },
     "execution_count": 221,
     "metadata": {},
     "output_type": "execute_result"
    }
   ],
   "source": [
    "front_end_syn_dict['product key']"
   ]
  },
  {
   "cell_type": "code",
   "execution_count": 222,
   "metadata": {
    "collapsed": true
   },
   "outputs": [],
   "source": [
    "front_end_syn_dict['hard drive not detected'] = 'hard drive installed not working'\n",
    "front_end_syn_dict['hard drive error'] = 'hard drive installed not working'\n",
    "front_end_syn_dict['hard drive issue'] = 'hard drive installed not working'\n",
    "front_end_syn_dict['hard drive issues'] = 'hard drive installed not working'\n",
    "front_end_syn_dict['hard drive not installed'] = 'hard drive installed not working'\n",
    "front_end_syn_dict['hard drive not found'] = 'hard drive installed not working'\n",
    "front_end_syn_dict['no hard drive detected'] = 'hard drive installed not working'\n",
    "front_end_syn_dict['hard drive password'] = 'hard drive installed not working'\n",
    "front_end_syn_dict['pos hard drive'] = 'hard drive installed not working'\n",
    "\n",
    "\n",
    "front_end_syn_dict['111'] = '111 CPU Exception Occurred Motherboard'\n",
    "front_end_syn_dict['112'] = '112 CPU Machine Check Exception Detected Motherboard'\n",
    "front_end_syn_dict['114'] = '114 CPU Cache Integrity Test Discrepancy Motherboard'\n",
    "front_end_syn_dict['115'] = '115 CPU Stress Thermal Condition Limit Motherboard'\n",
    "front_end_syn_dict['122'] = '122 Memory errors detected. Too many errors, issue cannotbe resolved Memory'\n",
    "front_end_syn_dict['123'] = '123 Memory- integrity test discrepancy Motherboard'\n",
    "front_end_syn_dict['125'] = '125 ECC errors have occurred Memory'\n",
    "front_end_syn_dict['126'] = '126 The event log(s) must be cleared before testing can continue Memory'\n",
    "front_end_syn_dict['131'] = '131 Battery - The battery is not installed Battery (Notebook)'\n",
    "front_end_syn_dict['132'] = '132 Battery -The battery is reaching the end of its usable life Battery (Notebook)'\n",
    "front_end_syn_dict['133'] = '133 Battery - The battery cannot provide sufficient power Battery (Notebook)'\n",
    "front_end_syn_dict['134'] = '134 Charger -Charge cycles exceeded maximum limit Battery (Notebook)'\n",
    "front_end_syn_dict['141'] = '141 Hard Drive - no drive detected Hard Drive'\n",
    "front_end_syn_dict['142'] = '142 A. Hard Drive self-test unsuccessful, terminated'\n",
    "front_end_syn_dict['143'] = '143 Your hard disk drive has indicated a failure.'\n",
    "front_end_syn_dict['144'] = '144 Your hard disk drive has indicated a failure.'\n",
    "front_end_syn_dict['145'] = '145 Hard Drive - self test did not complete Hard Drive'\n",
    "front_end_syn_dict['146'] = '146 Hard Drive - self test log contains previous errors Hard Drive'\n",
    "front_end_syn_dict['147'] = '147 Optical Drive - self test error Motherboard'\n",
    "front_end_syn_dict['150'] = '150 Hard Drive - No drive detected Hard Drive'\n",
    "front_end_syn_dict['151'] = '151 Hard Drive - incorrect status  Hard Drive'\n",
    "front_end_syn_dict['152'] = '152 Optical Drive - incorrect status  Motherboard'\n",
    "front_end_syn_dict['155'] = '155 Hard Drive not installed Hard Drive'\n",
    "front_end_syn_dict['156'] = '156 eMMC Long and Short Read Test failed Motherboard'\n",
    "front_end_syn_dict['161'] = '161 Replace the Optane SSD'\n",
    "front_end_syn_dict['213'] = '213 System board - CMOS battery failure detected Motherboard'\n",
    "front_end_syn_dict['221'] = '221 Timer - Interval timer not functional Motherboard'\n",
    "front_end_syn_dict['233'] = '233 System board - RTC seconds count is not updating Motherboard'\n",
    "front_end_syn_dict['234'] = '234 System board - HPET, incorrect time period Motherboard'\n",
    "front_end_syn_dict['241'] = '241 BIOS - A20 gate not enabled Motherboard'\n",
    "front_end_syn_dict['242'] = '242 System board - Interrupt controller, IRQ not detected Motherboard'\n",
    "front_end_syn_dict['243'] = '243 USB Device Error Motherboard'\n",
    "front_end_syn_dict['244'] = '244 USB Device Error Motherboard'\n",
    "front_end_syn_dict['245'] = '245 USB Device Error Motherboard'\n",
    "front_end_syn_dict['261'] = '261 System Board Data Errors Motherboard'\n",
    "front_end_syn_dict['313'] = '313 Touchpad - pointing stick/touchpad not detected Motherboard'\n",
    "front_end_syn_dict['314'] = '314 Thermal: Temperature exceeds the thermal limit Motherboard'\n",
    "front_end_syn_dict['315'] = '315 Sensor: Temperature is lower than expected Motherboard'\n",
    "front_end_syn_dict['321'] = '321 LCD EDID - unable to access EDID EEPROM Motherboard'\n",
    "front_end_syn_dict['322'] = '322 LCD panel - unable to modify brightness LCD Panel'\n",
    "front_end_syn_dict['324'] = '324 LCD panel - user reported LCD BIST colors were not displayed LCD Panel'\n",
    "front_end_syn_dict['325'] = '325 LCD panel - user provided no input for LCD BIST LCD Panel'\n",
    "front_end_syn_dict['326'] = '326 LCD panel - unable to turn lamp on or off LCD Panel'\n",
    "front_end_syn_dict['327'] = '327 LCD panel - unable to use BIOS interface Motherboard'\n",
    "front_end_syn_dict['328'] = '328 LCD panel - unable to detect variance in ambient light sensor LCD Panel'\n",
    "front_end_syn_dict['331'] = '331 Video controller - no video controller detected Motherboard'\n",
    "front_end_syn_dict['332'] = '332 Video memory -Video memory integrity test discrepancy Motherboard'\n",
    "front_end_syn_dict['333'] = '333 Video - User provided no input for graphics test Motherboard'\n",
    "front_end_syn_dict['334'] = '334 Video - user reported the patterns were not displayed LCD Panel'\n",
    "front_end_syn_dict['415'] = '415 LCD Cable Error LCD Panel'\n",
    "front_end_syn_dict['511'] = '511 Fan - The fan failed to respond correctly Motherboard'\n",
    "front_end_syn_dict['512'] = '512 Fan - The fan is running faster than expected Motherboard'\n",
    "front_end_syn_dict['620'] = '620 Network Controller Error Motherboard'\n",
    "front_end_syn_dict['621'] = '621 Network Controller Error Motherboard'\n",
    "front_end_syn_dict['8011'] = '8011  USB Device Error Motherboard'\n",
    "front_end_syn_dict['8012'] = '8012 USB Device Error Motherboard'\n"
   ]
  },
  {
   "cell_type": "code",
   "execution_count": 223,
   "metadata": {
    "collapsed": true
   },
   "outputs": [],
   "source": [
    "def synonymn_2func_batch(batch_titles, syn_dict):\n",
    "# Jaya's fast synonym replacement\n",
    "\n",
    "    \n",
    "    # ----------------- Finished Import --------------------------\n",
    "    \n",
    "    keydict = {}\n",
    "    \n",
    "    keyword_processor = KeywordProcessor()\n",
    "    multiword_processor = KeywordProcessor()\n",
    "    extractor = KeywordProcessor()\n",
    "    \n",
    "    for key, val in syn_dict.items():\n",
    "        if len(key.split()) == 1:    \n",
    "            keyword_processor.add_keyword(key, val)\n",
    "        elif len(key.split()) > 1:\n",
    "            multiword_processor.add_keyword(key, val)\n",
    "    \n",
    "    \n",
    "    # Loop through the 2 synonymn replacing functions and extract keywords\n",
    "    return [multiword_processor.replace_keywords(keyword_processor.replace_keywords(each_title)) \n",
    "            for each_title in batch_titles]"
   ]
  },
  {
   "cell_type": "code",
   "execution_count": 225,
   "metadata": {
    "collapsed": true
   },
   "outputs": [],
   "source": [
    "df_hard = data_2cleanup(ds_hard)\n",
    "df_hard['input_data'] = synonymn_2func_batch(df_hard['input_data'].values, front_end_syn_dict)"
   ]
  },
  {
   "cell_type": "code",
   "execution_count": 226,
   "metadata": {
    "collapsed": true
   },
   "outputs": [],
   "source": [
    "def remove_2punctuations(text):\n",
    "    for punctuation in string.punctuation:\n",
    "        text = text.replace(punctuation, ' ')\n",
    "    return text\n"
   ]
  },
  {
   "cell_type": "code",
   "execution_count": 227,
   "metadata": {
    "collapsed": true
   },
   "outputs": [],
   "source": [
    "#Removing punctuations\n",
    "df_hard[\"input_data\"] = df_hard['input_data'].apply(remove_2punctuations)"
   ]
  },
  {
   "cell_type": "code",
   "execution_count": 228,
   "metadata": {},
   "outputs": [
    {
     "data": {
      "text/plain": [
       "hard_drive                   71282\n",
       "motherboard                  57498\n",
       "keyboard                     22996\n",
       "battery                      20580\n",
       "chassis                      16847\n",
       "lcd                          13982\n",
       "dock                          7639\n",
       "ac_adapter                    6790\n",
       "mouse                         5738\n",
       "cables                        5691\n",
       "power_supply                  5223\n",
       "heatsink                      4540\n",
       "flat_panel_display            4185\n",
       "wlan                          3838\n",
       "operating_system              3260\n",
       "fan                           3071\n",
       "pcba_misc                     3013\n",
       "speaker                       2838\n",
       "optical_drive                 2533\n",
       "memory                        2095\n",
       "graphics_card                 1520\n",
       "electrical_components         1287\n",
       "touchpad                      1232\n",
       "printer                       1015\n",
       "camera                         303\n",
       "mechanical_hardware            212\n",
       "processor                      151\n",
       "peripherals                     63\n",
       "media                           51\n",
       "network_card                    46\n",
       "                             ...  \n",
       "wlan(65)                         1\n",
       "lcd(14)                          1\n",
       "motherboard(17)                  1\n",
       "battery(136)                     1\n",
       "pcba_misc(20)                    1\n",
       "power_supply(17)                 1\n",
       "wlan(55)                         1\n",
       "electrical_components(40)        1\n",
       "(140)                            1\n",
       "wlan(36)                         1\n",
       "chassis(18)                      1\n",
       "wlan(120)                        1\n",
       "cables(14)                       1\n",
       "battery(200)                     1\n",
       "ac_adapter(44)                   1\n",
       "mouse(30)                        1\n",
       "battery(47)                      1\n",
       "keyboard(95)                     1\n",
       "wlan(70)                         1\n",
       "chassis(96)                      1\n",
       "wlan(75)                         1\n",
       "battery(67)                      1\n",
       "wlan(60)                         1\n",
       "mouse(14)                        1\n",
       "ac_adapter(27)                   1\n",
       "battery(37)                      1\n",
       "chassis(21)                      1\n",
       "battery(55)                      1\n",
       "pcba_misc(30)                    1\n",
       "cables(17)                       1\n",
       "Name: commodity_list, dtype: int64"
      ]
     },
     "execution_count": 228,
     "metadata": {},
     "output_type": "execute_result"
    }
   ],
   "source": [
    "df_hard.commodity_list.value_counts()"
   ]
  },
  {
   "cell_type": "code",
   "execution_count": 229,
   "metadata": {
    "collapsed": true
   },
   "outputs": [],
   "source": [
    "def remove_2less_than_n_from_column(ds1, n, column_to_filter):\n",
    "    no_values_list = ds1[column_to_filter].value_counts()[ds1[column_to_filter].value_counts()<n].reset_index()['index'].values\n",
    "    print(\"{} that only show up less than {} times:\".format(column_to_filter, n), no_values_list)\n",
    "    print()\n",
    "    no_values_index = ds1[column_to_filter].apply(lambda x: x not in no_values_list)\n",
    "    filtered_ds1 = ds1.ix[no_values_index].reset_index(drop=True)\n",
    "    print(\"Dropping rows with nulls in column '{}'\".format(column_to_filter))\n",
    "    print()\n",
    "    filtered_ds1 = filtered_ds1.dropna(axis=0, subset=[column_to_filter]).reset_index(drop=True)\n",
    "    print(\"old data shape: \", ds1.shape, \"new data shape: \", filtered_ds1.shape)\n",
    "    return filtered_ds1"
   ]
  },
  {
   "cell_type": "code",
   "execution_count": 230,
   "metadata": {},
   "outputs": [
    {
     "data": {
      "text/plain": [
       "hard_drive                   71282\n",
       "motherboard                  57498\n",
       "keyboard                     22996\n",
       "battery                      20580\n",
       "chassis                      16847\n",
       "lcd                          13982\n",
       "dock                          7639\n",
       "ac_adapter                    6790\n",
       "mouse                         5738\n",
       "cables                        5691\n",
       "power_supply                  5223\n",
       "heatsink                      4540\n",
       "flat_panel_display            4185\n",
       "wlan                          3838\n",
       "operating_system              3260\n",
       "fan                           3071\n",
       "pcba_misc                     3013\n",
       "speaker                       2838\n",
       "optical_drive                 2533\n",
       "memory                        2095\n",
       "graphics_card                 1520\n",
       "electrical_components         1287\n",
       "touchpad                      1232\n",
       "printer                       1015\n",
       "camera                         303\n",
       "mechanical_hardware            212\n",
       "processor                      151\n",
       "peripherals                     63\n",
       "media                           51\n",
       "network_card                    46\n",
       "                             ...  \n",
       "wlan(65)                         1\n",
       "lcd(14)                          1\n",
       "motherboard(17)                  1\n",
       "battery(136)                     1\n",
       "pcba_misc(20)                    1\n",
       "power_supply(17)                 1\n",
       "wlan(55)                         1\n",
       "electrical_components(40)        1\n",
       "(140)                            1\n",
       "wlan(36)                         1\n",
       "chassis(18)                      1\n",
       "wlan(120)                        1\n",
       "cables(14)                       1\n",
       "battery(200)                     1\n",
       "ac_adapter(44)                   1\n",
       "mouse(30)                        1\n",
       "battery(47)                      1\n",
       "keyboard(95)                     1\n",
       "wlan(70)                         1\n",
       "chassis(96)                      1\n",
       "wlan(75)                         1\n",
       "battery(67)                      1\n",
       "wlan(60)                         1\n",
       "mouse(14)                        1\n",
       "ac_adapter(27)                   1\n",
       "battery(37)                      1\n",
       "chassis(21)                      1\n",
       "battery(55)                      1\n",
       "pcba_misc(30)                    1\n",
       "cables(17)                       1\n",
       "Name: commodity_list, dtype: int64"
      ]
     },
     "execution_count": 230,
     "metadata": {},
     "output_type": "execute_result"
    },
    {
     "name": "stderr",
     "output_type": "stream",
     "text": [
      "/opt/microsoft/mlserver/9.2.1/runtime/python/lib/python3.5/site-packages/matplotlib/font_manager.py:1297: UserWarning: findfont: Font family ['sans-serif'] not found. Falling back to DejaVu Sans\n",
      "  (prop.get_family(), self.defaultFamily[fontext]))\n"
     ]
    },
    {
     "data": {
      "image/png": "[encoded data removed]",
      "text/plain": [
       "<matplotlib.figure.Figure at 0x7fa808154cc0>"
      ]
     },
     "metadata": {},
     "output_type": "display_data"
    }
   ],
   "source": [
    "df_hard['commodity_list'].value_counts().plot()\n",
    "df_hard['commodity_list'].value_counts()"
   ]
  },
  {
   "cell_type": "code",
   "execution_count": 231,
   "metadata": {},
   "outputs": [
    {
     "data": {
      "text/plain": [
       "119"
      ]
     },
     "execution_count": 231,
     "metadata": {},
     "output_type": "execute_result"
    }
   ],
   "source": [
    "# how many hard fix categories are there?\n",
    "len(df_hard['commodity_list'].value_counts())"
   ]
  },
  {
   "cell_type": "code",
   "execution_count": 232,
   "metadata": {},
   "outputs": [
    {
     "data": {
      "text/plain": [
       "29"
      ]
     },
     "execution_count": 232,
     "metadata": {},
     "output_type": "execute_result"
    }
   ],
   "source": [
    "# how many if we limit to a decent volume?\n",
    "len(df_hard['commodity_list'].value_counts()[df_hard['commodity_list'].value_counts()>50])"
   ]
  },
  {
   "cell_type": "code",
   "execution_count": 233,
   "metadata": {},
   "outputs": [
    {
     "name": "stdout",
     "output_type": "stream",
     "text": [
      "commodity_list that only show up less than 50 times: ['network_card' 'service' 'chassis(15)' 'chassis(23)' 'chassis(25)'\n",
      " 'microphone' 'chassis(16)' 'chassis(20)' 'chassis(22)' 'cables(15)'\n",
      " 'wlan(100)' 'battery(21)' 'chassis(40)' 'wlan(35)' 'chassis(24)'\n",
      " 'chassis(50)' 'wlan(31)' 'battery(50)' 'chassis(17)' 'chassis(14)'\n",
      " 'battery(20)' 'wlan(25)' 'wlan(50)' 'mouse(15)' 'battery(40)'\n",
      " 'chassis(80)' 'hard_drive(20)' 'wlan(20)' 'wlan(15)' 'wlan(71)'\n",
      " 'wlan(38)' '(20)' 'cables(18)' 'flat_panel_display(25)' 'keyboard(15)'\n",
      " 'wlan(90)' 'cables(50)' 'scanner' 'chassis(30)' 'chassis(62)'\n",
      " 'chassis(32)' 'cables(20)' '(125)' 'dock(15)' 'modem' 'battery(140)'\n",
      " 'battery(18)' 'wlan(78)' 'motherboard(44)' 'cables(22)' 'chassis(44)'\n",
      " 'mouse(33)' 'hard_drive(16)' 'battery(14)' 'chassis(19)' 'chassis(72)'\n",
      " 'electrical_components(64)' 'keyboard(34)' 'battery(29)' 'battery(27)'\n",
      " 'wlan(65)' 'lcd(14)' 'motherboard(17)' 'battery(136)' 'pcba_misc(20)'\n",
      " 'power_supply(17)' 'wlan(55)' 'electrical_components(40)' '(140)'\n",
      " 'wlan(36)' 'chassis(18)' 'wlan(120)' 'cables(14)' 'battery(200)'\n",
      " 'ac_adapter(44)' 'mouse(30)' 'battery(47)' 'keyboard(95)' 'wlan(70)'\n",
      " 'chassis(96)' 'wlan(75)' 'battery(67)' 'wlan(60)' 'mouse(14)'\n",
      " 'ac_adapter(27)' 'battery(37)' 'chassis(21)' 'battery(55)'\n",
      " 'pcba_misc(30)' 'cables(17)']\n",
      "\n",
      "Dropping rows with nulls in column 'commodity_list'\n",
      "\n",
      "old data shape:  (269719, 13) new data shape:  (269473, 13)\n"
     ]
    }
   ],
   "source": [
    "df_hard = remove_2less_than_n_from_column(df_hard, 50, 'commodity_list')"
   ]
  },
  {
   "cell_type": "code",
   "execution_count": 235,
   "metadata": {
    "collapsed": true
   },
   "outputs": [],
   "source": [
    "df_hard[\"commodity_list\"] = df_hard[\"commodity_list\"].astype(\"category\")\n",
    "df_hard[\"brand_desc\"] = df_hard[\"brand_desc\"].astype(\"category\")\n",
    "df_hard[\"fmly_desc\"] = df_hard[\"fmly_desc\"].astype(\"category\")\n",
    "df_hard[\"lob_desc\"] = df_hard[\"product_desc\"].astype(\"category\")\n",
    "#df_hard['gsd_tower'] = df_hard['gsd_tower'].astype('category')"
   ]
  },
  {
   "cell_type": "code",
   "execution_count": 236,
   "metadata": {},
   "outputs": [
    {
     "data": {
      "text/plain": [
       "29"
      ]
     },
     "execution_count": 236,
     "metadata": {},
     "output_type": "execute_result"
    }
   ],
   "source": [
    "df_hard.commodity_list.nunique()"
   ]
  },
  {
   "cell_type": "code",
   "execution_count": 237,
   "metadata": {
    "collapsed": true
   },
   "outputs": [],
   "source": [
    "df_validation=df_hard[df_hard.fweek.isin([201923,201924,201925,201926])].reset_index(drop=True)"
   ]
  },
  {
   "cell_type": "code",
   "execution_count": 238,
   "metadata": {
    "collapsed": true
   },
   "outputs": [],
   "source": [
    "df_hard=df_hard[~df_hard.fweek.isin([201923,201924,201925,201926])].reset_index(drop=True)"
   ]
  },
  {
   "cell_type": "code",
   "execution_count": 240,
   "metadata": {},
   "outputs": [
    {
     "data": {
      "text/plain": [
       "201923.0    8717\n",
       "201925.0    8599\n",
       "201926.0    8501\n",
       "201924.0    8483\n",
       "Name: fweek, dtype: int64"
      ]
     },
     "execution_count": 240,
     "metadata": {},
     "output_type": "execute_result"
    }
   ],
   "source": [
    "df_validation.fweek.value_counts()"
   ]
  },
  {
   "cell_type": "code",
   "execution_count": 241,
   "metadata": {
    "collapsed": true
   },
   "outputs": [],
   "source": [
    "# split data between training and test\n",
    "from sklearn import  model_selection\n",
    "\n",
    "sssplit = model_selection.StratifiedShuffleSplit(n_splits=1, test_size=0.4, random_state=42)\n",
    "\n",
    "sss = sssplit.get_n_splits(df_hard, df_hard['commodity_list'])"
   ]
  },
  {
   "cell_type": "code",
   "execution_count": 242,
   "metadata": {},
   "outputs": [
    {
     "name": "stdout",
     "output_type": "stream",
     "text": [
      "TRAIN: [172813 152249  16445 ... 210370  86187 225426] TEST: [ 53672 193827 120827 ... 101339 118077  67553]\n"
     ]
    }
   ],
   "source": [
    "for train_index, test_index in sssplit.split(np.zeros(df_hard.shape[0]), df_hard['commodity_list']):\n",
    "    print(\"TRAIN:\", train_index, \"TEST:\", test_index)\n",
    "    X_train, X_test_all = df_hard.ix[train_index].reset_index(), df_hard.ix[test_index].reset_index()\n",
    "    y_train, y_test_all =  df_hard['commodity_list'][train_index].reset_index(drop=True), \\\n",
    "                           df_hard['commodity_list'][test_index].reset_index(drop=True)"
   ]
  },
  {
   "cell_type": "code",
   "execution_count": 243,
   "metadata": {},
   "outputs": [
    {
     "data": {
      "text/plain": [
       "((94070, 15), (141103, 15))"
      ]
     },
     "execution_count": 243,
     "metadata": {},
     "output_type": "execute_result"
    }
   ],
   "source": [
    "X_test_all.shape, X_train.shape"
   ]
  },
  {
   "cell_type": "code",
   "execution_count": 245,
   "metadata": {
    "collapsed": true
   },
   "outputs": [],
   "source": [
    "# Score \n",
    "def score_2log_reg_hard(model, test_ds1):\n",
    "    # score and have it rtn enough fields to join back to orig dataset\n",
    "    scoreAutoRec = rx_predict(model, data = test_ds1, extra_vars_to_write=[\"dispatch_id\",\"commodity_list\"])  \n",
    "\n",
    "    return scoreAutoRec"
   ]
  },
  {
   "cell_type": "code",
   "execution_count": 246,
   "metadata": {
    "collapsed": true
   },
   "outputs": [],
   "source": [
    "import numpy"
   ]
  },
  {
   "cell_type": "code",
   "execution_count": 247,
   "metadata": {
    "collapsed": true
   },
   "outputs": [],
   "source": [
    "# Eval \n",
    "\n",
    "def eval_2log_reg_hd(scored_data):\n",
    "  \n",
    "  #  sc = scoreAutoRec_tree_test\n",
    "    sc =  scored_data\n",
    "    #sc.head()\n",
    "    sc_score_cats = list(sc.commodity_list.cat.categories)\n",
    "    sc_scores_only = sc.loc[:, sc.columns.str.startswith('Score')]    # get columns that start with Score\n",
    "\n",
    "    sc_scores_only.columns = sc.commodity_list.cat.categories  # set column names equal to predicted names\n",
    "\n",
    "    pred_col = sc_scores_only.idxmax(axis=1)  # gets column label with max score\n",
    "    sc_scores_only['predicted_label'] = pred_col\n",
    "\n",
    "    pred_score = sc_scores_only.max(axis=1)  # Randi's idea   \n",
    "    sc_scores_only['predicted_score'] = pred_score\n",
    "    #print(sc_scores_only['predicted_score'].head())\n",
    "\n",
    "    scored = sc_scores_only  \n",
    "    scored['commodity_list'] = sc.commodity_list\n",
    "\n",
    "    print(metrics.classification_report(scored.commodity_list, scored.predicted_label))\n",
    "    \n",
    "    badPrediction = scored.commodity_list != scored.predicted_label\n",
    "    \n",
    "    # prediction IS IN resolution list\n",
    "    #scored['commodity_inmatch'] = numpy.zeros((scored.commodity_list.shape[0], 1))\n",
    "    commodity_inmatch = defaultdict(lambda:0)\n",
    "    for i,commodity_list in enumerate(scored.commodity_list):\n",
    "        if (scored['predicted_score'].iloc[i]>0.95) \\\n",
    "                & (str(scored['predicted_label'].iloc[i]) in str(commodity_list)):\n",
    "            commodity_inmatch[commodity_list] += 1\n",
    "            #scored['commodity_inmatch'].iloc[i] = 1\n",
    "            \n",
    "\n",
    "    print(commodity_inmatch)\n",
    "    \n",
    "    #sc = pd.DataFrame ({ 'dispatch_id':sc.dispatch_id, 'predicted_label':sc_scores_only['predicted_label'], \n",
    "    #                     'score' :sc_scores_only['predicted_score'] })  \n",
    "    \n",
    "    return scored"
   ]
  },
  {
   "cell_type": "code",
   "execution_count": 248,
   "metadata": {
    "collapsed": true
   },
   "outputs": [],
   "source": [
    "from matplotlib import pyplot as plt"
   ]
  },
  {
   "cell_type": "code",
   "execution_count": 249,
   "metadata": {
    "collapsed": true
   },
   "outputs": [],
   "source": [
    "col_to_use = ['sr_num','lob_desc','brand_desc', 'fmly_desc','commodity_list', \"X_ISP_SR_TITLE\", \"input_data\",'commodity_standardized_num_parts' ]"
   ]
  },
  {
   "cell_type": "code",
   "execution_count": 250,
   "metadata": {},
   "outputs": [
    {
     "data": {
      "text/plain": [
       "(94070, 15)"
      ]
     },
     "execution_count": 250,
     "metadata": {},
     "output_type": "execute_result"
    }
   ],
   "source": [
    "X_test_all.shape"
   ]
  },
  {
   "cell_type": "markdown",
   "metadata": {},
   "source": [
    "# Startified Cross validation"
   ]
  },
  {
   "cell_type": "markdown",
   "metadata": {},
   "source": [
    "#### We will be running GridSearch with Stratified Cross Validation on train data to find out optimize value for lr__C."
   ]
  },
  {
   "cell_type": "code",
   "execution_count": 252,
   "metadata": {
    "collapsed": true
   },
   "outputs": [],
   "source": [
    "from sklearn.model_selection import StratifiedKFold"
   ]
  },
  {
   "cell_type": "code",
   "execution_count": 326,
   "metadata": {},
   "outputs": [
    {
     "name": "stdout",
     "output_type": "stream",
     "text": [
      "Fold 1 -----\n",
      "Commodity Distribution:\n",
      "hard_drive               0.268242\n",
      "motherboard              0.210612\n",
      "keyboard                 0.086320\n",
      "battery                  0.073675\n",
      "chassis                  0.063014\n",
      "lcd                      0.051608\n",
      "dock                     0.027168\n",
      "ac_adapter               0.024865\n",
      "mouse                    0.022846\n",
      "cables                   0.021536\n",
      "power_supply             0.019729\n",
      "heatsink                 0.016506\n",
      "flat_panel_display       0.015125\n",
      "wlan                     0.014204\n",
      "operating_system         0.012397\n",
      "fan                      0.011335\n",
      "pcba_misc                0.011122\n",
      "speaker                  0.010555\n",
      "optical_drive            0.009564\n",
      "memory                   0.007615\n",
      "graphics_card            0.005703\n",
      "electrical_components    0.004853\n",
      "touchpad                 0.004605\n",
      "printer                  0.003825\n",
      "camera                   0.001133\n",
      "mechanical_hardware      0.000779\n",
      "processor                0.000602\n",
      "peripherals              0.000248\n",
      "media                    0.000213\n",
      "Name: commodity_list, dtype: float64\n",
      "\n",
      "Fold 2 -----\n",
      "Commodity Distribution:\n",
      "hard_drive               0.268280\n",
      "motherboard              0.210642\n",
      "keyboard                 0.086333\n",
      "battery                  0.073686\n",
      "chassis                  0.063023\n",
      "lcd                      0.051615\n",
      "dock                     0.027136\n",
      "ac_adapter               0.024869\n",
      "mouse                    0.022850\n",
      "cables                   0.021539\n",
      "power_supply             0.019732\n",
      "heatsink                 0.016473\n",
      "flat_panel_display       0.015127\n",
      "wlan                     0.014206\n",
      "operating_system         0.012399\n",
      "fan                      0.011336\n",
      "pcba_misc                0.011124\n",
      "speaker                  0.010557\n",
      "optical_drive            0.009565\n",
      "memory                   0.007617\n",
      "graphics_card            0.005704\n",
      "electrical_components    0.004853\n",
      "touchpad                 0.004605\n",
      "printer                  0.003826\n",
      "camera                   0.001134\n",
      "mechanical_hardware      0.000744\n",
      "processor                0.000602\n",
      "media                    0.000213\n",
      "peripherals              0.000213\n",
      "Name: commodity_list, dtype: float64\n",
      "\n",
      "Fold 3 -----\n",
      "Commodity Distribution:\n",
      "hard_drive               0.268339\n",
      "motherboard              0.210717\n",
      "keyboard                 0.086363\n",
      "battery                  0.073712\n",
      "chassis                  0.063009\n",
      "lcd                      0.051634\n",
      "dock                     0.027146\n",
      "ac_adapter               0.024842\n",
      "mouse                    0.022858\n",
      "cables                   0.021547\n",
      "power_supply             0.019739\n",
      "heatsink                 0.016479\n",
      "flat_panel_display       0.015132\n",
      "wlan                     0.014175\n",
      "operating_system         0.012403\n",
      "fan                      0.011340\n",
      "pcba_misc                0.011128\n",
      "speaker                  0.010561\n",
      "optical_drive            0.009533\n",
      "memory                   0.007584\n",
      "graphics_card            0.005706\n",
      "electrical_components    0.004820\n",
      "touchpad                 0.004572\n",
      "printer                  0.003827\n",
      "camera                   0.001099\n",
      "mechanical_hardware      0.000744\n",
      "processor                0.000567\n",
      "media                    0.000213\n",
      "peripherals              0.000213\n",
      "Name: commodity_list, dtype: float64\n",
      "\n",
      "Fold 4 -----\n",
      "Commodity Distribution:\n",
      "hard_drive               0.268387\n",
      "motherboard              0.210754\n",
      "keyboard                 0.086343\n",
      "battery                  0.073725\n",
      "chassis                  0.063021\n",
      "lcd                      0.051607\n",
      "dock                     0.027151\n",
      "ac_adapter               0.024847\n",
      "mouse                    0.022826\n",
      "cables                   0.021515\n",
      "power_supply             0.019743\n",
      "heatsink                 0.016482\n",
      "flat_panel_display       0.015135\n",
      "wlan                     0.014178\n",
      "operating_system         0.012406\n",
      "fan                      0.011342\n",
      "pcba_misc                0.011094\n",
      "speaker                  0.010563\n",
      "optical_drive            0.009535\n",
      "memory                   0.007585\n",
      "graphics_card            0.005707\n",
      "electrical_components    0.004820\n",
      "touchpad                 0.004572\n",
      "printer                  0.003828\n",
      "camera                   0.001099\n",
      "mechanical_hardware      0.000744\n",
      "processor                0.000567\n",
      "media                    0.000213\n",
      "peripherals              0.000213\n",
      "Name: commodity_list, dtype: float64\n",
      "\n",
      "Fold 5 -----\n",
      "Commodity Distribution:\n",
      "hard_drive               0.268396\n",
      "motherboard              0.210761\n",
      "keyboard                 0.086346\n",
      "battery                  0.073727\n",
      "chassis                  0.063023\n",
      "lcd                      0.051609\n",
      "dock                     0.027152\n",
      "ac_adapter               0.024848\n",
      "mouse                    0.022827\n",
      "cables                   0.021516\n",
      "power_supply             0.019743\n",
      "heatsink                 0.016482\n",
      "flat_panel_display       0.015135\n",
      "wlan                     0.014178\n",
      "operating_system         0.012406\n",
      "fan                      0.011343\n",
      "pcba_misc                0.011095\n",
      "speaker                  0.010527\n",
      "optical_drive            0.009535\n",
      "memory                   0.007585\n",
      "graphics_card            0.005707\n",
      "electrical_components    0.004821\n",
      "touchpad                 0.004573\n",
      "printer                  0.003828\n",
      "camera                   0.001099\n",
      "mechanical_hardware      0.000744\n",
      "processor                0.000567\n",
      "media                    0.000213\n",
      "peripherals              0.000213\n",
      "Name: commodity_list, dtype: float64\n",
      "\n"
     ]
    }
   ],
   "source": [
    "\n",
    "skf = StratifiedKFold(n_splits=5, shuffle=True, random_state=1)\n",
    "for f, split in enumerate(skf.split(X_train, X_train['commodity_list'])):\n",
    "    print(\"Fold\", f + 1, \"-----\")\n",
    "    test = X_train.iloc[split[1]]\n",
    "    print(\"Commodity Distribution:\", test['commodity_list'].value_counts(normalize=True), \"\", sep='\\n')"
   ]
  },
  {
   "cell_type": "code",
   "execution_count": 254,
   "metadata": {
    "collapsed": true
   },
   "outputs": [],
   "source": [
    "import nltk\n",
    "import numpy as np\n",
    "\n",
    "from sklearn.feature_extraction.text import TfidfVectorizer\n",
    "from sklearn.linear_model import LogisticRegression\n",
    "from sklearn.model_selection import GridSearchCV\n",
    "from sklearn.pipeline import Pipeline\n",
    "\n",
    "pipeline = Pipeline([\n",
    "    ('tfidf',  TfidfVectorizer()),\n",
    "    ('lr', LogisticRegression())\n",
    "])\n",
    "\n",
    "analyzer = TfidfVectorizer().build_analyzer()\n",
    "#stemmer = nltk.stem.SnowballStemmer('english')\n",
    "\n",
    "pipeline.set_params(\n",
    "    #tfidf__analyzer=lambda x: (stemmer.stem(w) for w in analyzer(x)),\n",
    "    tfidf__ngram_range=(1,2),\n",
    "    lr__solver='sag',\n",
    "    lr__multi_class='multinomial',\n",
    "    lr__penalty='l2', \n",
    "    lr__tol=0.001, \n",
    "    lr__verbose=False)\n",
    "\n",
    "param_grid = {\n",
    "    'lr__C': np.linspace(1, 3, 11) # I think the value is close to 2 based on previous testing, and want to reduce runtime\n",
    "}\n"
   ]
  },
  {
   "cell_type": "code",
   "execution_count": 47,
   "metadata": {},
   "outputs": [
    {
     "name": "stdout",
     "output_type": "stream",
     "text": [
      "Fitting 5 folds for each of 11 candidates, totalling 55 fits\n"
     ]
    },
    {
     "name": "stderr",
     "output_type": "stream",
     "text": [
      "/opt/microsoft/mlserver/9.2.1/runtime/python/lib/python3.5/site-packages/sklearn/feature_extraction/text.py:1059: FutureWarning: Conversion of the second argument of issubdtype from `float` to `np.floating` is deprecated. In future, it will be treated as `np.float64 == np.dtype(float).type`.\n",
      "  if hasattr(X, 'dtype') and np.issubdtype(X.dtype, np.float):\n",
      "/opt/microsoft/mlserver/9.2.1/runtime/python/lib/python3.5/site-packages/sklearn/feature_extraction/text.py:1059: FutureWarning: Conversion of the second argument of issubdtype from `float` to `np.floating` is deprecated. In future, it will be treated as `np.float64 == np.dtype(float).type`.\n",
      "  if hasattr(X, 'dtype') and np.issubdtype(X.dtype, np.float):\n",
      "/opt/microsoft/mlserver/9.2.1/runtime/python/lib/python3.5/site-packages/sklearn/feature_extraction/text.py:1059: FutureWarning: Conversion of the second argument of issubdtype from `float` to `np.floating` is deprecated. In future, it will be treated as `np.float64 == np.dtype(float).type`.\n",
      "  if hasattr(X, 'dtype') and np.issubdtype(X.dtype, np.float):\n",
      "/opt/microsoft/mlserver/9.2.1/runtime/python/lib/python3.5/site-packages/sklearn/feature_extraction/text.py:1059: FutureWarning: Conversion of the second argument of issubdtype from `float` to `np.floating` is deprecated. In future, it will be treated as `np.float64 == np.dtype(float).type`.\n",
      "  if hasattr(X, 'dtype') and np.issubdtype(X.dtype, np.float):\n",
      "/opt/microsoft/mlserver/9.2.1/runtime/python/lib/python3.5/site-packages/sklearn/feature_extraction/text.py:1059: FutureWarning: Conversion of the second argument of issubdtype from `float` to `np.floating` is deprecated. In future, it will be treated as `np.float64 == np.dtype(float).type`.\n",
      "  if hasattr(X, 'dtype') and np.issubdtype(X.dtype, np.float):\n",
      "/opt/microsoft/mlserver/9.2.1/runtime/python/lib/python3.5/site-packages/sklearn/feature_extraction/text.py:1059: FutureWarning: Conversion of the second argument of issubdtype from `float` to `np.floating` is deprecated. In future, it will be treated as `np.float64 == np.dtype(float).type`.\n",
      "  if hasattr(X, 'dtype') and np.issubdtype(X.dtype, np.float):\n",
      "/opt/microsoft/mlserver/9.2.1/runtime/python/lib/python3.5/site-packages/sklearn/feature_extraction/text.py:1059: FutureWarning: Conversion of the second argument of issubdtype from `float` to `np.floating` is deprecated. In future, it will be treated as `np.float64 == np.dtype(float).type`.\n",
      "  if hasattr(X, 'dtype') and np.issubdtype(X.dtype, np.float):\n",
      "/opt/microsoft/mlserver/9.2.1/runtime/python/lib/python3.5/site-packages/sklearn/feature_extraction/text.py:1059: FutureWarning: Conversion of the second argument of issubdtype from `float` to `np.floating` is deprecated. In future, it will be treated as `np.float64 == np.dtype(float).type`.\n",
      "  if hasattr(X, 'dtype') and np.issubdtype(X.dtype, np.float):\n",
      "/opt/microsoft/mlserver/9.2.1/runtime/python/lib/python3.5/site-packages/sklearn/feature_extraction/text.py:1059: FutureWarning: Conversion of the second argument of issubdtype from `float` to `np.floating` is deprecated. In future, it will be treated as `np.float64 == np.dtype(float).type`.\n",
      "  if hasattr(X, 'dtype') and np.issubdtype(X.dtype, np.float):\n",
      "/opt/microsoft/mlserver/9.2.1/runtime/python/lib/python3.5/site-packages/sklearn/feature_extraction/text.py:1059: FutureWarning: Conversion of the second argument of issubdtype from `float` to `np.floating` is deprecated. In future, it will be treated as `np.float64 == np.dtype(float).type`.\n",
      "  if hasattr(X, 'dtype') and np.issubdtype(X.dtype, np.float):\n",
      "/opt/microsoft/mlserver/9.2.1/runtime/python/lib/python3.5/site-packages/sklearn/feature_extraction/text.py:1059: FutureWarning: Conversion of the second argument of issubdtype from `float` to `np.floating` is deprecated. In future, it will be treated as `np.float64 == np.dtype(float).type`.\n",
      "  if hasattr(X, 'dtype') and np.issubdtype(X.dtype, np.float):\n",
      "/opt/microsoft/mlserver/9.2.1/runtime/python/lib/python3.5/site-packages/sklearn/feature_extraction/text.py:1059: FutureWarning: Conversion of the second argument of issubdtype from `float` to `np.floating` is deprecated. In future, it will be treated as `np.float64 == np.dtype(float).type`.\n",
      "  if hasattr(X, 'dtype') and np.issubdtype(X.dtype, np.float):\n",
      "/opt/microsoft/mlserver/9.2.1/runtime/python/lib/python3.5/site-packages/sklearn/feature_extraction/text.py:1059: FutureWarning: Conversion of the second argument of issubdtype from `float` to `np.floating` is deprecated. In future, it will be treated as `np.float64 == np.dtype(float).type`.\n",
      "  if hasattr(X, 'dtype') and np.issubdtype(X.dtype, np.float):\n",
      "/opt/microsoft/mlserver/9.2.1/runtime/python/lib/python3.5/site-packages/sklearn/feature_extraction/text.py:1059: FutureWarning: Conversion of the second argument of issubdtype from `float` to `np.floating` is deprecated. In future, it will be treated as `np.float64 == np.dtype(float).type`.\n",
      "  if hasattr(X, 'dtype') and np.issubdtype(X.dtype, np.float):\n",
      "/opt/microsoft/mlserver/9.2.1/runtime/python/lib/python3.5/site-packages/sklearn/feature_extraction/text.py:1059: FutureWarning: Conversion of the second argument of issubdtype from `float` to `np.floating` is deprecated. In future, it will be treated as `np.float64 == np.dtype(float).type`.\n",
      "  if hasattr(X, 'dtype') and np.issubdtype(X.dtype, np.float):\n",
      "/opt/microsoft/mlserver/9.2.1/runtime/python/lib/python3.5/site-packages/sklearn/feature_extraction/text.py:1059: FutureWarning: Conversion of the second argument of issubdtype from `float` to `np.floating` is deprecated. In future, it will be treated as `np.float64 == np.dtype(float).type`.\n",
      "  if hasattr(X, 'dtype') and np.issubdtype(X.dtype, np.float):\n",
      "/opt/microsoft/mlserver/9.2.1/runtime/python/lib/python3.5/site-packages/sklearn/feature_extraction/text.py:1059: FutureWarning: Conversion of the second argument of issubdtype from `float` to `np.floating` is deprecated. In future, it will be treated as `np.float64 == np.dtype(float).type`.\n",
      "  if hasattr(X, 'dtype') and np.issubdtype(X.dtype, np.float):\n",
      "/opt/microsoft/mlserver/9.2.1/runtime/python/lib/python3.5/site-packages/sklearn/feature_extraction/text.py:1059: FutureWarning: Conversion of the second argument of issubdtype from `float` to `np.floating` is deprecated. In future, it will be treated as `np.float64 == np.dtype(float).type`.\n",
      "  if hasattr(X, 'dtype') and np.issubdtype(X.dtype, np.float):\n",
      "/opt/microsoft/mlserver/9.2.1/runtime/python/lib/python3.5/site-packages/sklearn/feature_extraction/text.py:1059: FutureWarning: Conversion of the second argument of issubdtype from `float` to `np.floating` is deprecated. In future, it will be treated as `np.float64 == np.dtype(float).type`.\n",
      "  if hasattr(X, 'dtype') and np.issubdtype(X.dtype, np.float):\n",
      "/opt/microsoft/mlserver/9.2.1/runtime/python/lib/python3.5/site-packages/sklearn/feature_extraction/text.py:1059: FutureWarning: Conversion of the second argument of issubdtype from `float` to `np.floating` is deprecated. In future, it will be treated as `np.float64 == np.dtype(float).type`.\n",
      "  if hasattr(X, 'dtype') and np.issubdtype(X.dtype, np.float):\n",
      "/opt/microsoft/mlserver/9.2.1/runtime/python/lib/python3.5/site-packages/sklearn/feature_extraction/text.py:1059: FutureWarning: Conversion of the second argument of issubdtype from `float` to `np.floating` is deprecated. In future, it will be treated as `np.float64 == np.dtype(float).type`.\n",
      "  if hasattr(X, 'dtype') and np.issubdtype(X.dtype, np.float):\n",
      "/opt/microsoft/mlserver/9.2.1/runtime/python/lib/python3.5/site-packages/sklearn/feature_extraction/text.py:1059: FutureWarning: Conversion of the second argument of issubdtype from `float` to `np.floating` is deprecated. In future, it will be treated as `np.float64 == np.dtype(float).type`.\n",
      "  if hasattr(X, 'dtype') and np.issubdtype(X.dtype, np.float):\n",
      "/opt/microsoft/mlserver/9.2.1/runtime/python/lib/python3.5/site-packages/sklearn/feature_extraction/text.py:1059: FutureWarning: Conversion of the second argument of issubdtype from `float` to `np.floating` is deprecated. In future, it will be treated as `np.float64 == np.dtype(float).type`.\n",
      "  if hasattr(X, 'dtype') and np.issubdtype(X.dtype, np.float):\n",
      "/opt/microsoft/mlserver/9.2.1/runtime/python/lib/python3.5/site-packages/sklearn/feature_extraction/text.py:1059: FutureWarning: Conversion of the second argument of issubdtype from `float` to `np.floating` is deprecated. In future, it will be treated as `np.float64 == np.dtype(float).type`.\n",
      "  if hasattr(X, 'dtype') and np.issubdtype(X.dtype, np.float):\n"
     ]
    },
    {
     "name": "stderr",
     "output_type": "stream",
     "text": [
      "/opt/microsoft/mlserver/9.2.1/runtime/python/lib/python3.5/site-packages/sklearn/feature_extraction/text.py:1059: FutureWarning: Conversion of the second argument of issubdtype from `float` to `np.floating` is deprecated. In future, it will be treated as `np.float64 == np.dtype(float).type`.\n",
      "  if hasattr(X, 'dtype') and np.issubdtype(X.dtype, np.float):\n",
      "/opt/microsoft/mlserver/9.2.1/runtime/python/lib/python3.5/site-packages/sklearn/feature_extraction/text.py:1059: FutureWarning: Conversion of the second argument of issubdtype from `float` to `np.floating` is deprecated. In future, it will be treated as `np.float64 == np.dtype(float).type`.\n",
      "  if hasattr(X, 'dtype') and np.issubdtype(X.dtype, np.float):\n",
      "/opt/microsoft/mlserver/9.2.1/runtime/python/lib/python3.5/site-packages/sklearn/feature_extraction/text.py:1059: FutureWarning: Conversion of the second argument of issubdtype from `float` to `np.floating` is deprecated. In future, it will be treated as `np.float64 == np.dtype(float).type`.\n",
      "  if hasattr(X, 'dtype') and np.issubdtype(X.dtype, np.float):\n",
      "/opt/microsoft/mlserver/9.2.1/runtime/python/lib/python3.5/site-packages/sklearn/feature_extraction/text.py:1059: FutureWarning: Conversion of the second argument of issubdtype from `float` to `np.floating` is deprecated. In future, it will be treated as `np.float64 == np.dtype(float).type`.\n",
      "  if hasattr(X, 'dtype') and np.issubdtype(X.dtype, np.float):\n",
      "/opt/microsoft/mlserver/9.2.1/runtime/python/lib/python3.5/site-packages/sklearn/feature_extraction/text.py:1059: FutureWarning: Conversion of the second argument of issubdtype from `float` to `np.floating` is deprecated. In future, it will be treated as `np.float64 == np.dtype(float).type`.\n",
      "  if hasattr(X, 'dtype') and np.issubdtype(X.dtype, np.float):\n",
      "/opt/microsoft/mlserver/9.2.1/runtime/python/lib/python3.5/site-packages/sklearn/feature_extraction/text.py:1059: FutureWarning: Conversion of the second argument of issubdtype from `float` to `np.floating` is deprecated. In future, it will be treated as `np.float64 == np.dtype(float).type`.\n",
      "  if hasattr(X, 'dtype') and np.issubdtype(X.dtype, np.float):\n",
      "/opt/microsoft/mlserver/9.2.1/runtime/python/lib/python3.5/site-packages/sklearn/feature_extraction/text.py:1059: FutureWarning: Conversion of the second argument of issubdtype from `float` to `np.floating` is deprecated. In future, it will be treated as `np.float64 == np.dtype(float).type`.\n",
      "  if hasattr(X, 'dtype') and np.issubdtype(X.dtype, np.float):\n",
      "/opt/microsoft/mlserver/9.2.1/runtime/python/lib/python3.5/site-packages/sklearn/feature_extraction/text.py:1059: FutureWarning: Conversion of the second argument of issubdtype from `float` to `np.floating` is deprecated. In future, it will be treated as `np.float64 == np.dtype(float).type`.\n",
      "  if hasattr(X, 'dtype') and np.issubdtype(X.dtype, np.float):\n",
      "/opt/microsoft/mlserver/9.2.1/runtime/python/lib/python3.5/site-packages/sklearn/feature_extraction/text.py:1059: FutureWarning: Conversion of the second argument of issubdtype from `float` to `np.floating` is deprecated. In future, it will be treated as `np.float64 == np.dtype(float).type`.\n",
      "  if hasattr(X, 'dtype') and np.issubdtype(X.dtype, np.float):\n",
      "/opt/microsoft/mlserver/9.2.1/runtime/python/lib/python3.5/site-packages/sklearn/feature_extraction/text.py:1059: FutureWarning: Conversion of the second argument of issubdtype from `float` to `np.floating` is deprecated. In future, it will be treated as `np.float64 == np.dtype(float).type`.\n",
      "  if hasattr(X, 'dtype') and np.issubdtype(X.dtype, np.float):\n",
      "/opt/microsoft/mlserver/9.2.1/runtime/python/lib/python3.5/site-packages/sklearn/feature_extraction/text.py:1059: FutureWarning: Conversion of the second argument of issubdtype from `float` to `np.floating` is deprecated. In future, it will be treated as `np.float64 == np.dtype(float).type`.\n",
      "  if hasattr(X, 'dtype') and np.issubdtype(X.dtype, np.float):\n",
      "/opt/microsoft/mlserver/9.2.1/runtime/python/lib/python3.5/site-packages/sklearn/feature_extraction/text.py:1059: FutureWarning: Conversion of the second argument of issubdtype from `float` to `np.floating` is deprecated. In future, it will be treated as `np.float64 == np.dtype(float).type`.\n",
      "  if hasattr(X, 'dtype') and np.issubdtype(X.dtype, np.float):\n",
      "/opt/microsoft/mlserver/9.2.1/runtime/python/lib/python3.5/site-packages/sklearn/feature_extraction/text.py:1059: FutureWarning: Conversion of the second argument of issubdtype from `float` to `np.floating` is deprecated. In future, it will be treated as `np.float64 == np.dtype(float).type`.\n",
      "  if hasattr(X, 'dtype') and np.issubdtype(X.dtype, np.float):\n",
      "/opt/microsoft/mlserver/9.2.1/runtime/python/lib/python3.5/site-packages/sklearn/feature_extraction/text.py:1059: FutureWarning: Conversion of the second argument of issubdtype from `float` to `np.floating` is deprecated. In future, it will be treated as `np.float64 == np.dtype(float).type`.\n",
      "  if hasattr(X, 'dtype') and np.issubdtype(X.dtype, np.float):\n",
      "/opt/microsoft/mlserver/9.2.1/runtime/python/lib/python3.5/site-packages/sklearn/feature_extraction/text.py:1059: FutureWarning: Conversion of the second argument of issubdtype from `float` to `np.floating` is deprecated. In future, it will be treated as `np.float64 == np.dtype(float).type`.\n",
      "  if hasattr(X, 'dtype') and np.issubdtype(X.dtype, np.float):\n",
      "/opt/microsoft/mlserver/9.2.1/runtime/python/lib/python3.5/site-packages/sklearn/feature_extraction/text.py:1059: FutureWarning: Conversion of the second argument of issubdtype from `float` to `np.floating` is deprecated. In future, it will be treated as `np.float64 == np.dtype(float).type`.\n",
      "  if hasattr(X, 'dtype') and np.issubdtype(X.dtype, np.float):\n",
      "/opt/microsoft/mlserver/9.2.1/runtime/python/lib/python3.5/site-packages/sklearn/feature_extraction/text.py:1059: FutureWarning: Conversion of the second argument of issubdtype from `float` to `np.floating` is deprecated. In future, it will be treated as `np.float64 == np.dtype(float).type`.\n",
      "  if hasattr(X, 'dtype') and np.issubdtype(X.dtype, np.float):\n",
      "/opt/microsoft/mlserver/9.2.1/runtime/python/lib/python3.5/site-packages/sklearn/feature_extraction/text.py:1059: FutureWarning: Conversion of the second argument of issubdtype from `float` to `np.floating` is deprecated. In future, it will be treated as `np.float64 == np.dtype(float).type`.\n",
      "  if hasattr(X, 'dtype') and np.issubdtype(X.dtype, np.float):\n",
      "/opt/microsoft/mlserver/9.2.1/runtime/python/lib/python3.5/site-packages/sklearn/feature_extraction/text.py:1059: FutureWarning: Conversion of the second argument of issubdtype from `float` to `np.floating` is deprecated. In future, it will be treated as `np.float64 == np.dtype(float).type`.\n",
      "  if hasattr(X, 'dtype') and np.issubdtype(X.dtype, np.float):\n",
      "/opt/microsoft/mlserver/9.2.1/runtime/python/lib/python3.5/site-packages/sklearn/feature_extraction/text.py:1059: FutureWarning: Conversion of the second argument of issubdtype from `float` to `np.floating` is deprecated. In future, it will be treated as `np.float64 == np.dtype(float).type`.\n",
      "  if hasattr(X, 'dtype') and np.issubdtype(X.dtype, np.float):\n",
      "/opt/microsoft/mlserver/9.2.1/runtime/python/lib/python3.5/site-packages/sklearn/feature_extraction/text.py:1059: FutureWarning: Conversion of the second argument of issubdtype from `float` to `np.floating` is deprecated. In future, it will be treated as `np.float64 == np.dtype(float).type`.\n",
      "  if hasattr(X, 'dtype') and np.issubdtype(X.dtype, np.float):\n",
      "/opt/microsoft/mlserver/9.2.1/runtime/python/lib/python3.5/site-packages/sklearn/feature_extraction/text.py:1059: FutureWarning: Conversion of the second argument of issubdtype from `float` to `np.floating` is deprecated. In future, it will be treated as `np.float64 == np.dtype(float).type`.\n",
      "  if hasattr(X, 'dtype') and np.issubdtype(X.dtype, np.float):\n",
      "/opt/microsoft/mlserver/9.2.1/runtime/python/lib/python3.5/site-packages/sklearn/feature_extraction/text.py:1059: FutureWarning: Conversion of the second argument of issubdtype from `float` to `np.floating` is deprecated. In future, it will be treated as `np.float64 == np.dtype(float).type`.\n",
      "  if hasattr(X, 'dtype') and np.issubdtype(X.dtype, np.float):\n",
      "/opt/microsoft/mlserver/9.2.1/runtime/python/lib/python3.5/site-packages/sklearn/feature_extraction/text.py:1059: FutureWarning: Conversion of the second argument of issubdtype from `float` to `np.floating` is deprecated. In future, it will be treated as `np.float64 == np.dtype(float).type`.\n",
      "  if hasattr(X, 'dtype') and np.issubdtype(X.dtype, np.float):\n"
     ]
    },
    {
     "name": "stderr",
     "output_type": "stream",
     "text": [
      "/opt/microsoft/mlserver/9.2.1/runtime/python/lib/python3.5/site-packages/sklearn/feature_extraction/text.py:1059: FutureWarning: Conversion of the second argument of issubdtype from `float` to `np.floating` is deprecated. In future, it will be treated as `np.float64 == np.dtype(float).type`.\n",
      "  if hasattr(X, 'dtype') and np.issubdtype(X.dtype, np.float):\n",
      "/opt/microsoft/mlserver/9.2.1/runtime/python/lib/python3.5/site-packages/sklearn/feature_extraction/text.py:1059: FutureWarning: Conversion of the second argument of issubdtype from `float` to `np.floating` is deprecated. In future, it will be treated as `np.float64 == np.dtype(float).type`.\n",
      "  if hasattr(X, 'dtype') and np.issubdtype(X.dtype, np.float):\n",
      "/opt/microsoft/mlserver/9.2.1/runtime/python/lib/python3.5/site-packages/sklearn/feature_extraction/text.py:1059: FutureWarning: Conversion of the second argument of issubdtype from `float` to `np.floating` is deprecated. In future, it will be treated as `np.float64 == np.dtype(float).type`.\n",
      "  if hasattr(X, 'dtype') and np.issubdtype(X.dtype, np.float):\n",
      "/opt/microsoft/mlserver/9.2.1/runtime/python/lib/python3.5/site-packages/sklearn/feature_extraction/text.py:1059: FutureWarning: Conversion of the second argument of issubdtype from `float` to `np.floating` is deprecated. In future, it will be treated as `np.float64 == np.dtype(float).type`.\n",
      "  if hasattr(X, 'dtype') and np.issubdtype(X.dtype, np.float):\n",
      "/opt/microsoft/mlserver/9.2.1/runtime/python/lib/python3.5/site-packages/sklearn/feature_extraction/text.py:1059: FutureWarning: Conversion of the second argument of issubdtype from `float` to `np.floating` is deprecated. In future, it will be treated as `np.float64 == np.dtype(float).type`.\n",
      "  if hasattr(X, 'dtype') and np.issubdtype(X.dtype, np.float):\n",
      "/opt/microsoft/mlserver/9.2.1/runtime/python/lib/python3.5/site-packages/sklearn/feature_extraction/text.py:1059: FutureWarning: Conversion of the second argument of issubdtype from `float` to `np.floating` is deprecated. In future, it will be treated as `np.float64 == np.dtype(float).type`.\n",
      "  if hasattr(X, 'dtype') and np.issubdtype(X.dtype, np.float):\n",
      "/opt/microsoft/mlserver/9.2.1/runtime/python/lib/python3.5/site-packages/sklearn/feature_extraction/text.py:1059: FutureWarning: Conversion of the second argument of issubdtype from `float` to `np.floating` is deprecated. In future, it will be treated as `np.float64 == np.dtype(float).type`.\n",
      "  if hasattr(X, 'dtype') and np.issubdtype(X.dtype, np.float):\n",
      "[Parallel(n_jobs=1)]: Done  55 out of  55 | elapsed: 26.2min finished\n",
      "/opt/microsoft/mlserver/9.2.1/runtime/python/lib/python3.5/site-packages/sklearn/feature_extraction/text.py:1059: FutureWarning: Conversion of the second argument of issubdtype from `float` to `np.floating` is deprecated. In future, it will be treated as `np.float64 == np.dtype(float).type`.\n",
      "  if hasattr(X, 'dtype') and np.issubdtype(X.dtype, np.float):\n"
     ]
    },
    {
     "name": "stdout",
     "output_type": "stream",
     "text": [
      "Best C: 3.0\n"
     ]
    }
   ],
   "source": [
    "gs = GridSearchCV(\n",
    "    pipeline, \n",
    "    param_grid=param_grid,\n",
    "    cv=skf,\n",
    "    verbose=1,\n",
    "    return_train_score=False)\n",
    "\n",
    "gs.fit(X_train['input_data'], y=X_train['commodity_list'])\n",
    "print(\"Best C:\", gs.best_params_['lr__C'])"
   ]
  },
  {
   "cell_type": "code",
   "execution_count": 255,
   "metadata": {},
   "outputs": [
    {
     "data": {
      "text/plain": [
       "3.0"
      ]
     },
     "execution_count": 255,
     "metadata": {},
     "output_type": "execute_result"
    }
   ],
   "source": [
    "gs.best_params_['lr__C']"
   ]
  },
  {
   "cell_type": "markdown",
   "metadata": {},
   "source": [
    "#### Setting  lr__C parameter"
   ]
  },
  {
   "cell_type": "code",
   "execution_count": 256,
   "metadata": {},
   "outputs": [
    {
     "data": {
      "text/plain": [
       "Pipeline(steps=[('tfidf', TfidfVectorizer(analyzer='word', binary=False, decode_error='strict',\n",
       "        dtype=<class 'numpy.int64'>, encoding='utf-8', input='content',\n",
       "        lowercase=True, max_df=1.0, max_features=None, min_df=1,\n",
       "        ngram_range=(1, 2), norm='l2', preprocessor=None, smooth_idf=True,\n",
       " ...nalty='l2', random_state=None, solver='sag',\n",
       "          tol=0.001, verbose=False, warm_start=False))])"
      ]
     },
     "execution_count": 256,
     "metadata": {},
     "output_type": "execute_result"
    }
   ],
   "source": [
    "pipeline.set_params(lr__C=gs.best_params_['lr__C'])"
   ]
  },
  {
   "cell_type": "code",
   "execution_count": 257,
   "metadata": {
    "collapsed": true
   },
   "outputs": [],
   "source": [
    "from sklearn.model_selection import cross_val_score"
   ]
  },
  {
   "cell_type": "code",
   "execution_count": 258,
   "metadata": {},
   "outputs": [
    {
     "name": "stdout",
     "output_type": "stream",
     "text": [
      "Running stratified k-fold..."
     ]
    },
    {
     "name": "stderr",
     "output_type": "stream",
     "text": [
      "/opt/microsoft/mlserver/9.2.1/runtime/python/lib/python3.5/site-packages/sklearn/feature_extraction/text.py:1059: FutureWarning: Conversion of the second argument of issubdtype from `float` to `np.floating` is deprecated. In future, it will be treated as `np.float64 == np.dtype(float).type`.\n",
      "  if hasattr(X, 'dtype') and np.issubdtype(X.dtype, np.float):\n",
      "/opt/microsoft/mlserver/9.2.1/runtime/python/lib/python3.5/site-packages/sklearn/feature_extraction/text.py:1059: FutureWarning: Conversion of the second argument of issubdtype from `float` to `np.floating` is deprecated. In future, it will be treated as `np.float64 == np.dtype(float).type`.\n",
      "  if hasattr(X, 'dtype') and np.issubdtype(X.dtype, np.float):\n",
      "/opt/microsoft/mlserver/9.2.1/runtime/python/lib/python3.5/site-packages/sklearn/feature_extraction/text.py:1059: FutureWarning: Conversion of the second argument of issubdtype from `float` to `np.floating` is deprecated. In future, it will be treated as `np.float64 == np.dtype(float).type`.\n",
      "  if hasattr(X, 'dtype') and np.issubdtype(X.dtype, np.float):\n",
      "/opt/microsoft/mlserver/9.2.1/runtime/python/lib/python3.5/site-packages/sklearn/feature_extraction/text.py:1059: FutureWarning: Conversion of the second argument of issubdtype from `float` to `np.floating` is deprecated. In future, it will be treated as `np.float64 == np.dtype(float).type`.\n",
      "  if hasattr(X, 'dtype') and np.issubdtype(X.dtype, np.float):\n",
      "/opt/microsoft/mlserver/9.2.1/runtime/python/lib/python3.5/site-packages/sklearn/feature_extraction/text.py:1059: FutureWarning: Conversion of the second argument of issubdtype from `float` to `np.floating` is deprecated. In future, it will be treated as `np.float64 == np.dtype(float).type`.\n",
      "  if hasattr(X, 'dtype') and np.issubdtype(X.dtype, np.float):\n"
     ]
    },
    {
     "name": "stdout",
     "output_type": "stream",
     "text": [
      " done.\n"
     ]
    }
   ],
   "source": [
    "\n",
    "\n",
    "print(\"Running stratified k-fold...\", end='')\n",
    "skf_results = cross_val_score(\n",
    "    pipeline, \n",
    "    X=X_train['input_data'], \n",
    "    y=X_train['commodity_list'], \n",
    "    cv=skf, \n",
    "   # return_train_score=False, \n",
    "    verbose=False)\n",
    "print(\" done.\")\n"
   ]
  },
  {
   "cell_type": "code",
   "execution_count": 259,
   "metadata": {},
   "outputs": [
    {
     "name": "stdout",
     "output_type": "stream",
     "text": [
      "Stratified k-fold average accuracy: 0.8461761192341131\n"
     ]
    }
   ],
   "source": [
    "print(\"Stratified k-fold average accuracy:\", np.mean(skf_results))"
   ]
  },
  {
   "cell_type": "markdown",
   "metadata": {},
   "source": [
    "### Now I'll fit the same pipeline on the entire train set and then predict on the test set."
   ]
  },
  {
   "cell_type": "code",
   "execution_count": 260,
   "metadata": {},
   "outputs": [
    {
     "name": "stderr",
     "output_type": "stream",
     "text": [
      "/opt/microsoft/mlserver/9.2.1/runtime/python/lib/python3.5/site-packages/sklearn/feature_extraction/text.py:1059: FutureWarning: Conversion of the second argument of issubdtype from `float` to `np.floating` is deprecated. In future, it will be treated as `np.float64 == np.dtype(float).type`.\n",
      "  if hasattr(X, 'dtype') and np.issubdtype(X.dtype, np.float):\n"
     ]
    }
   ],
   "source": [
    "auto_rec_model=pipeline.fit(X_train['input_data'], y=X_train['commodity_list'])"
   ]
  },
  {
   "cell_type": "code",
   "execution_count": 261,
   "metadata": {},
   "outputs": [
    {
     "name": "stderr",
     "output_type": "stream",
     "text": [
      "/opt/microsoft/mlserver/9.2.1/runtime/python/lib/python3.5/site-packages/sklearn/feature_extraction/text.py:1059: FutureWarning: Conversion of the second argument of issubdtype from `float` to `np.floating` is deprecated. In future, it will be treated as `np.float64 == np.dtype(float).type`.\n",
      "  if hasattr(X, 'dtype') and np.issubdtype(X.dtype, np.float):\n"
     ]
    }
   ],
   "source": [
    "#test_pred = pipeline.fit(X_train['input_data'], y=X_train['commodity_list']).predict(X_test_all['input_data'])\n",
    "test_pred = auto_rec_model.predict(X_test_all['input_data'])"
   ]
  },
  {
   "cell_type": "code",
   "execution_count": 262,
   "metadata": {},
   "outputs": [
    {
     "name": "stderr",
     "output_type": "stream",
     "text": [
      "/opt/microsoft/mlserver/9.2.1/runtime/python/lib/python3.5/site-packages/sklearn/feature_extraction/text.py:1059: FutureWarning: Conversion of the second argument of issubdtype from `float` to `np.floating` is deprecated. In future, it will be treated as `np.float64 == np.dtype(float).type`.\n",
      "  if hasattr(X, 'dtype') and np.issubdtype(X.dtype, np.float):\n"
     ]
    }
   ],
   "source": [
    "#test_perc = pipeline.fit(X_train['input_data'], y=X_train['commodity_list']).predict_proba(X_test_all['input_data'])\n",
    "test_perc = auto_rec_model.predict_proba(X_test_all['input_data'])"
   ]
  },
  {
   "cell_type": "code",
   "execution_count": 336,
   "metadata": {},
   "outputs": [
    {
     "data": {
      "text/plain": [
       "array([[2.96113630e-02, 2.14698385e-02, 2.44391857e-02, ...,\n",
       "        1.74060817e-02, 1.28733972e-02, 1.56173923e-02],\n",
       "       [1.43087438e-02, 1.14116241e-02, 7.95288231e-02, ...,\n",
       "        3.24119123e-03, 1.99146891e-04, 4.75565325e-04],\n",
       "       [9.39670756e-03, 9.49493271e-01, 7.79465689e-03, ...,\n",
       "        2.62894898e-04, 1.01815115e-05, 4.99478271e-05],\n",
       "       ...,\n",
       "       [8.15574636e-04, 3.61439027e-03, 2.43516118e-03, ...,\n",
       "        1.29748376e-03, 8.92057329e-05, 9.18915101e-04],\n",
       "       [8.89745344e-04, 4.32488590e-03, 1.78356257e-03, ...,\n",
       "        6.07106252e-04, 3.51565873e-05, 1.82602344e-03],\n",
       "       [2.49401024e-04, 9.24250013e-05, 2.54375855e-04, ...,\n",
       "        1.72345179e-05, 3.82026594e-05, 5.08024201e-05]])"
      ]
     },
     "execution_count": 336,
     "metadata": {},
     "output_type": "execute_result"
    }
   ],
   "source": [
    "test_perc"
   ]
  },
  {
   "cell_type": "code",
   "execution_count": 337,
   "metadata": {},
   "outputs": [
    {
     "data": {
      "text/plain": [
       "array(['ac_adapter', 'battery', 'cables', 'camera', 'chassis', 'dock',\n",
       "       'electrical_components', 'fan', 'flat_panel_display',\n",
       "       'graphics_card', 'hard_drive', 'heatsink', 'keyboard', 'lcd',\n",
       "       'mechanical_hardware', 'media', 'memory', 'motherboard', 'mouse',\n",
       "       'operating_system', 'optical_drive', 'pcba_misc', 'peripherals',\n",
       "       'power_supply', 'printer', 'processor', 'speaker', 'touchpad',\n",
       "       'wlan'], dtype=object)"
      ]
     },
     "execution_count": 337,
     "metadata": {},
     "output_type": "execute_result"
    }
   ],
   "source": [
    "pipeline.classes_"
   ]
  },
  {
   "cell_type": "code",
   "execution_count": 339,
   "metadata": {
    "collapsed": true
   },
   "outputs": [],
   "source": [
    "scoreAutoRec_hd=pd.DataFrame(test_perc,columns=pipeline.classes_)"
   ]
  },
  {
   "cell_type": "code",
   "execution_count": 340,
   "metadata": {
    "collapsed": true
   },
   "outputs": [],
   "source": [
    "scoreAutoRec_hd['predicted_label']=scoreAutoRec_hd.idxmax(axis=1)"
   ]
  },
  {
   "cell_type": "code",
   "execution_count": 341,
   "metadata": {
    "collapsed": true
   },
   "outputs": [],
   "source": [
    "scoreAutoRec_hd['predicted_score']=scoreAutoRec_hd.loc[:,scoreAutoRec_hd.columns!='predicted_label'].apply(max, axis=1)\n",
    "#scoreAutoRec.loc[:, scoreAutoRec.columns.str.startswith('Score.')].apply(max, axis=1)"
   ]
  },
  {
   "cell_type": "code",
   "execution_count": 342,
   "metadata": {},
   "outputs": [
    {
     "data": {
      "text/plain": [
       "array(['hard_drive', 'flat_panel_display', 'battery', ..., 'hard_drive',\n",
       "       'hard_drive', 'keyboard'], dtype=object)"
      ]
     },
     "execution_count": 342,
     "metadata": {},
     "output_type": "execute_result"
    }
   ],
   "source": [
    "test_pred"
   ]
  },
  {
   "cell_type": "code",
   "execution_count": 343,
   "metadata": {
    "collapsed": true
   },
   "outputs": [],
   "source": [
    "scoreAutoRec_hd['PredictedLabel']=test_pred\n",
    "scoreAutoRec_hd['commodity_list']=X_test_all['commodity_list']\n",
    "scoreAutoRec_hd['sr_num']=X_test_all['sr_num']"
   ]
  },
  {
   "cell_type": "code",
   "execution_count": 344,
   "metadata": {},
   "outputs": [
    {
     "data": {
      "text/html": [
       "<div>\n",
       "<table border=\"1\" class=\"dataframe\">\n",
       "  <thead>\n",
       "    <tr style=\"text-align: right;\">\n",
       "      <th></th>\n",
       "      <th>ac_adapter</th>\n",
       "      <th>battery</th>\n",
       "      <th>cables</th>\n",
       "      <th>camera</th>\n",
       "      <th>chassis</th>\n",
       "      <th>dock</th>\n",
       "      <th>electrical_components</th>\n",
       "      <th>fan</th>\n",
       "      <th>flat_panel_display</th>\n",
       "      <th>graphics_card</th>\n",
       "      <th>...</th>\n",
       "      <th>printer</th>\n",
       "      <th>processor</th>\n",
       "      <th>speaker</th>\n",
       "      <th>touchpad</th>\n",
       "      <th>wlan</th>\n",
       "      <th>predicted_label</th>\n",
       "      <th>predicted_score</th>\n",
       "      <th>PredictedLabel</th>\n",
       "      <th>commodity_list</th>\n",
       "      <th>sr_num</th>\n",
       "    </tr>\n",
       "  </thead>\n",
       "  <tbody>\n",
       "    <tr>\n",
       "      <th>0</th>\n",
       "      <td>0.029611</td>\n",
       "      <td>0.021470</td>\n",
       "      <td>0.024439</td>\n",
       "      <td>0.001920</td>\n",
       "      <td>0.030865</td>\n",
       "      <td>0.002687</td>\n",
       "      <td>0.001431</td>\n",
       "      <td>0.003257</td>\n",
       "      <td>0.000967</td>\n",
       "      <td>0.000673</td>\n",
       "      <td>...</td>\n",
       "      <td>0.000656</td>\n",
       "      <td>0.000907</td>\n",
       "      <td>0.017406</td>\n",
       "      <td>0.012873</td>\n",
       "      <td>0.015617</td>\n",
       "      <td>hard_drive</td>\n",
       "      <td>0.415490</td>\n",
       "      <td>hard_drive</td>\n",
       "      <td>motherboard</td>\n",
       "      <td>965842293</td>\n",
       "    </tr>\n",
       "    <tr>\n",
       "      <th>1</th>\n",
       "      <td>0.014309</td>\n",
       "      <td>0.011412</td>\n",
       "      <td>0.079529</td>\n",
       "      <td>0.000312</td>\n",
       "      <td>0.001602</td>\n",
       "      <td>0.293337</td>\n",
       "      <td>0.037642</td>\n",
       "      <td>0.000360</td>\n",
       "      <td>0.470534</td>\n",
       "      <td>0.001428</td>\n",
       "      <td>...</td>\n",
       "      <td>0.001183</td>\n",
       "      <td>0.000322</td>\n",
       "      <td>0.003241</td>\n",
       "      <td>0.000199</td>\n",
       "      <td>0.000476</td>\n",
       "      <td>flat_panel_display</td>\n",
       "      <td>0.470534</td>\n",
       "      <td>flat_panel_display</td>\n",
       "      <td>dock</td>\n",
       "      <td>963615047</td>\n",
       "    </tr>\n",
       "    <tr>\n",
       "      <th>2</th>\n",
       "      <td>0.009397</td>\n",
       "      <td>0.949493</td>\n",
       "      <td>0.007795</td>\n",
       "      <td>0.000057</td>\n",
       "      <td>0.001314</td>\n",
       "      <td>0.000198</td>\n",
       "      <td>0.000083</td>\n",
       "      <td>0.000047</td>\n",
       "      <td>0.000038</td>\n",
       "      <td>0.000016</td>\n",
       "      <td>...</td>\n",
       "      <td>0.000016</td>\n",
       "      <td>0.000014</td>\n",
       "      <td>0.000263</td>\n",
       "      <td>0.000010</td>\n",
       "      <td>0.000050</td>\n",
       "      <td>battery</td>\n",
       "      <td>0.949493</td>\n",
       "      <td>battery</td>\n",
       "      <td>battery</td>\n",
       "      <td>961395475</td>\n",
       "    </tr>\n",
       "    <tr>\n",
       "      <th>3</th>\n",
       "      <td>0.000691</td>\n",
       "      <td>0.001901</td>\n",
       "      <td>0.000397</td>\n",
       "      <td>0.000101</td>\n",
       "      <td>0.034445</td>\n",
       "      <td>0.002591</td>\n",
       "      <td>0.000144</td>\n",
       "      <td>0.000277</td>\n",
       "      <td>0.000060</td>\n",
       "      <td>0.000021</td>\n",
       "      <td>...</td>\n",
       "      <td>0.000031</td>\n",
       "      <td>0.000023</td>\n",
       "      <td>0.000614</td>\n",
       "      <td>0.000020</td>\n",
       "      <td>0.000851</td>\n",
       "      <td>keyboard</td>\n",
       "      <td>0.933418</td>\n",
       "      <td>keyboard</td>\n",
       "      <td>keyboard</td>\n",
       "      <td>963099985</td>\n",
       "    </tr>\n",
       "    <tr>\n",
       "      <th>4</th>\n",
       "      <td>0.001254</td>\n",
       "      <td>0.000759</td>\n",
       "      <td>0.003553</td>\n",
       "      <td>0.000043</td>\n",
       "      <td>0.000503</td>\n",
       "      <td>0.000225</td>\n",
       "      <td>0.000055</td>\n",
       "      <td>0.000111</td>\n",
       "      <td>0.000020</td>\n",
       "      <td>0.000018</td>\n",
       "      <td>...</td>\n",
       "      <td>0.000017</td>\n",
       "      <td>0.000019</td>\n",
       "      <td>0.000046</td>\n",
       "      <td>0.000014</td>\n",
       "      <td>0.001087</td>\n",
       "      <td>motherboard</td>\n",
       "      <td>0.988484</td>\n",
       "      <td>motherboard</td>\n",
       "      <td>motherboard</td>\n",
       "      <td>968098252</td>\n",
       "    </tr>\n",
       "  </tbody>\n",
       "</table>\n",
       "<p>5 rows × 34 columns</p>\n",
       "</div>"
      ],
      "text/plain": [
       "   ac_adapter   battery    cables    camera   chassis      dock  \\\n",
       "0    0.029611  0.021470  0.024439  0.001920  0.030865  0.002687   \n",
       "1    0.014309  0.011412  0.079529  0.000312  0.001602  0.293337   \n",
       "2    0.009397  0.949493  0.007795  0.000057  0.001314  0.000198   \n",
       "3    0.000691  0.001901  0.000397  0.000101  0.034445  0.002591   \n",
       "4    0.001254  0.000759  0.003553  0.000043  0.000503  0.000225   \n",
       "\n",
       "   electrical_components       fan  flat_panel_display  graphics_card  \\\n",
       "0               0.001431  0.003257            0.000967       0.000673   \n",
       "1               0.037642  0.000360            0.470534       0.001428   \n",
       "2               0.000083  0.000047            0.000038       0.000016   \n",
       "3               0.000144  0.000277            0.000060       0.000021   \n",
       "4               0.000055  0.000111            0.000020       0.000018   \n",
       "\n",
       "     ...       printer  processor   speaker  touchpad      wlan  \\\n",
       "0    ...      0.000656   0.000907  0.017406  0.012873  0.015617   \n",
       "1    ...      0.001183   0.000322  0.003241  0.000199  0.000476   \n",
       "2    ...      0.000016   0.000014  0.000263  0.000010  0.000050   \n",
       "3    ...      0.000031   0.000023  0.000614  0.000020  0.000851   \n",
       "4    ...      0.000017   0.000019  0.000046  0.000014  0.001087   \n",
       "\n",
       "      predicted_label  predicted_score      PredictedLabel  commodity_list  \\\n",
       "0          hard_drive         0.415490          hard_drive     motherboard   \n",
       "1  flat_panel_display         0.470534  flat_panel_display            dock   \n",
       "2             battery         0.949493             battery         battery   \n",
       "3            keyboard         0.933418            keyboard        keyboard   \n",
       "4         motherboard         0.988484         motherboard     motherboard   \n",
       "\n",
       "      sr_num  \n",
       "0  965842293  \n",
       "1  963615047  \n",
       "2  961395475  \n",
       "3  963099985  \n",
       "4  968098252  \n",
       "\n",
       "[5 rows x 34 columns]"
      ]
     },
     "execution_count": 344,
     "metadata": {},
     "output_type": "execute_result"
    }
   ],
   "source": [
    "scoreAutoRec_hd.head()"
   ]
  },
  {
   "cell_type": "code",
   "execution_count": 345,
   "metadata": {},
   "outputs": [
    {
     "data": {
      "text/plain": [
       "0.8466992665036674"
      ]
     },
     "execution_count": 345,
     "metadata": {},
     "output_type": "execute_result"
    }
   ],
   "source": [
    "# prediction is exact match\n",
    "matches = scoreAutoRec_hd[scoreAutoRec_hd['commodity_list'].astype('object')\\\n",
    "                                 ==scoreAutoRec_hd['PredictedLabel'].astype('object')]\n",
    "num_match=len(matches['PredictedLabel'])\n",
    "num_tot = len(scoreAutoRec_hd)\n",
    "num_match/num_tot"
   ]
  },
  {
   "cell_type": "code",
   "execution_count": 346,
   "metadata": {},
   "outputs": [
    {
     "data": {
      "text/plain": [
       "hard_drive               18093\n",
       "keyboard                  5917\n",
       "motherboard               4953\n",
       "battery                   3803\n",
       "chassis                   2358\n",
       "mouse                     1537\n",
       "lcd                       1157\n",
       "dock                      1093\n",
       "flat_panel_display         695\n",
       "optical_drive              551\n",
       "heatsink                   518\n",
       "wlan                       409\n",
       "power_supply               369\n",
       "ac_adapter                 358\n",
       "speaker                    288\n",
       "cables                     223\n",
       "printer                    130\n",
       "fan                        124\n",
       "memory                      78\n",
       "graphics_card               60\n",
       "operating_system            40\n",
       "electrical_components       37\n",
       "touchpad                    17\n",
       "pcba_misc                    4\n",
       "camera                       2\n",
       "Name: predicted_label, dtype: int64"
      ]
     },
     "execution_count": 346,
     "metadata": {},
     "output_type": "execute_result"
    }
   ],
   "source": [
    "scoreAutoRec_hd[(scoreAutoRec_hd.predicted_score>=0.95)].predicted_label.value_counts()"
   ]
  },
  {
   "cell_type": "code",
   "execution_count": 347,
   "metadata": {},
   "outputs": [
    {
     "data": {
      "text/plain": [
       "hard_drive               17922\n",
       "keyboard                  5828\n",
       "motherboard               4826\n",
       "battery                   3731\n",
       "chassis                   2319\n",
       "mouse                     1517\n",
       "lcd                       1106\n",
       "dock                      1038\n",
       "flat_panel_display         681\n",
       "optical_drive              544\n",
       "heatsink                   514\n",
       "wlan                       395\n",
       "power_supply               366\n",
       "ac_adapter                 351\n",
       "speaker                    271\n",
       "cables                     219\n",
       "printer                    129\n",
       "fan                        119\n",
       "memory                      72\n",
       "graphics_card               60\n",
       "operating_system            37\n",
       "electrical_components       37\n",
       "touchpad                    17\n",
       "pcba_misc                    3\n",
       "camera                       2\n",
       "Name: predicted_label, dtype: int64"
      ]
     },
     "execution_count": 347,
     "metadata": {},
     "output_type": "execute_result"
    }
   ],
   "source": [
    "scoreAutoRec_hd[(scoreAutoRec_hd['commodity_list'].astype('object')==scoreAutoRec_hd['predicted_label'].astype('object')) & (scoreAutoRec_hd.predicted_score>=0.95)].predicted_label.value_counts()"
   ]
  },
  {
   "cell_type": "code",
   "execution_count": 348,
   "metadata": {},
   "outputs": [
    {
     "data": {
      "text/plain": [
       "hard_drive               26501\n",
       "motherboard              21777\n",
       "keyboard                  7894\n",
       "battery                   6951\n",
       "chassis                   5951\n",
       "lcd                       4957\n",
       "dock                      2563\n",
       "ac_adapter                2249\n",
       "mouse                     2137\n",
       "power_supply              1691\n",
       "flat_panel_display        1439\n",
       "heatsink                  1413\n",
       "wlan                      1272\n",
       "cables                    1103\n",
       "fan                       1052\n",
       "speaker                    958\n",
       "optical_drive              820\n",
       "operating_system           675\n",
       "pcba_misc                  671\n",
       "graphics_card              419\n",
       "printer                    417\n",
       "touchpad                   362\n",
       "memory                     360\n",
       "electrical_components      332\n",
       "camera                      89\n",
       "mechanical_hardware         10\n",
       "processor                    5\n",
       "peripherals                  2\n",
       "Name: predicted_label, dtype: int64"
      ]
     },
     "execution_count": 348,
     "metadata": {},
     "output_type": "execute_result"
    }
   ],
   "source": [
    "scoreAutoRec_hd.predicted_label.value_counts()"
   ]
  },
  {
   "cell_type": "code",
   "execution_count": 277,
   "metadata": {},
   "outputs": [
    {
     "data": {
      "text/plain": [
       "(94070, 34)"
      ]
     },
     "execution_count": 277,
     "metadata": {},
     "output_type": "execute_result"
    }
   ],
   "source": [
    "scoreAutoRec_hd.shape"
   ]
  },
  {
   "cell_type": "markdown",
   "metadata": {},
   "source": [
    "### Validate on 201923 to 201926 data"
   ]
  },
  {
   "cell_type": "code",
   "execution_count": 278,
   "metadata": {},
   "outputs": [
    {
     "name": "stderr",
     "output_type": "stream",
     "text": [
      "/opt/microsoft/mlserver/9.2.1/runtime/python/lib/python3.5/site-packages/sklearn/feature_extraction/text.py:1059: FutureWarning: Conversion of the second argument of issubdtype from `float` to `np.floating` is deprecated. In future, it will be treated as `np.float64 == np.dtype(float).type`.\n",
      "  if hasattr(X, 'dtype') and np.issubdtype(X.dtype, np.float):\n"
     ]
    }
   ],
   "source": [
    "validate_pred = auto_rec_model.predict(df_validation['input_data'])"
   ]
  },
  {
   "cell_type": "code",
   "execution_count": 279,
   "metadata": {},
   "outputs": [
    {
     "data": {
      "text/plain": [
       "34300"
      ]
     },
     "execution_count": 279,
     "metadata": {},
     "output_type": "execute_result"
    }
   ],
   "source": [
    "len(validate_pred)"
   ]
  },
  {
   "cell_type": "code",
   "execution_count": 280,
   "metadata": {
    "collapsed": true
   },
   "outputs": [],
   "source": [
    "validate_rest = pd.DataFrame(columns=['PredictedLabel','commodity_list'])"
   ]
  },
  {
   "cell_type": "code",
   "execution_count": 281,
   "metadata": {
    "collapsed": true
   },
   "outputs": [],
   "source": [
    "validate_rest['PredictedLabel']=validate_pred\n",
    "validate_rest['commodity_list']=df_validation['commodity_list']"
   ]
  },
  {
   "cell_type": "code",
   "execution_count": 282,
   "metadata": {},
   "outputs": [
    {
     "data": {
      "text/plain": [
       "34300"
      ]
     },
     "execution_count": 282,
     "metadata": {},
     "output_type": "execute_result"
    }
   ],
   "source": [
    "len(validate_rest)"
   ]
  },
  {
   "cell_type": "code",
   "execution_count": 283,
   "metadata": {},
   "outputs": [
    {
     "data": {
      "text/plain": [
       "0.8541399416909621"
      ]
     },
     "execution_count": 283,
     "metadata": {},
     "output_type": "execute_result"
    }
   ],
   "source": [
    "# prediction is exact match\n",
    "matches = validate_rest[validate_rest['commodity_list'].astype('object')\\\n",
    "                                 ==validate_rest['PredictedLabel'].astype('object')]\n",
    "num_match=len(matches['PredictedLabel'])\n",
    "num_tot = len(validate_rest)\n",
    "num_match/num_tot"
   ]
  },
  {
   "cell_type": "code",
   "execution_count": 351,
   "metadata": {
    "collapsed": true
   },
   "outputs": [],
   "source": [
    "def print_2predictions(test_rest):\n",
    "    col_names =  ['commodity', 'correctly_classified','correctly_classified%','incorrectly_classified','incorrectly_classified%','missed_detections','missed_detections%']\n",
    "    my_df  = pd.DataFrame(columns = col_names)\n",
    "    for i, each in enumerate(test_rest.PredictedLabel.unique()):\n",
    "        print(\"commodity = \", each)\n",
    "\n",
    "        #sc[each].hist(bins=100)\n",
    "        #plt.show()\n",
    "        #sc[sc['predicted_label'] == each].predicted_score.hist(bins=10)\n",
    "        #plt.show()\n",
    "    #     sc[(sc['predicted_label'] == each) & (sc['commodity_list'] == each)].predicted_score.hist(bins=20)\n",
    "    #     plt.title(\"Correctly classifying - scores for {}\".format(each))\n",
    "    #     plt.show()\n",
    "    #     sc[(sc['predicted_label'] == each) & (sc['commodity_list'] != each)].predicted_score.hist(bins=20)\n",
    "    #     plt.title(\"Incorrectly classifying - scores for {}\".format(each))\n",
    "    #     plt.show()\n",
    "\n",
    "        correct_num =  ((test_rest['PredictedLabel'] == each) & (test_rest['commodity_list'] == each)).sum()\n",
    "        incorrect_num = ((test_rest['PredictedLabel'] == each) & (test_rest['commodity_list'] != each)).sum()\n",
    "        incorrect_num_miss = ((test_rest['PredictedLabel'] != each) & (test_rest['commodity_list'] == each)).sum()\n",
    "\n",
    "        print(\"correctly classified : \", correct_num,',', correct_num/(test_rest['commodity_list'] == each).sum())\n",
    "        print(\"incorrectly classified : \", incorrect_num,',', incorrect_num/(test_rest['commodity_list'] != each).sum())\n",
    "        print(\"missed detections : \", incorrect_num_miss,',', incorrect_num_miss/(test_rest['commodity_list'] == each).sum())\n",
    "\n",
    "        print(\"------------------------------\")\n",
    "        my_df = my_df.append({'commodity':each,'correctly_classified':correct_num,'correctly_classified%':(correct_num/(test_rest['commodity_list'] == each).sum()),\\\n",
    "                                          'incorrectly_classified':incorrect_num,'incorrectly_classified%':(incorrect_num/(test_rest['commodity_list'] != each).sum()),\\\n",
    "                                         'missed_detections':incorrect_num_miss,'missed_detections%':(incorrect_num_miss/(test_rest['commodity_list'] == each).sum())\\\n",
    "                                         }, ignore_index=True)\n",
    "    return my_df"
   ]
  },
  {
   "cell_type": "code",
   "execution_count": 350,
   "metadata": {},
   "outputs": [
    {
     "name": "stdout",
     "output_type": "stream",
     "text": [
      "commodity =  hard_drive\n",
      "correctly classified :  23816 , 0.9435442335882097\n",
      "incorrectly classified :  2685 , 0.039009719740225775\n",
      "missed detections :  1425 , 0.05645576641179034\n",
      "------------------------------\n",
      "commodity =  flat_panel_display\n",
      "correctly classified :  1279 , 0.8981741573033708\n",
      "incorrectly classified :  160 , 0.001727003864171146\n",
      "missed detections :  145 , 0.10182584269662921\n",
      "------------------------------\n",
      "commodity =  battery\n",
      "correctly classified :  6143 , 0.8859244303432362\n",
      "incorrectly classified :  808 , 0.009272860815277268\n",
      "missed detections :  791 , 0.11407556965676377\n",
      "------------------------------\n",
      "commodity =  keyboard\n",
      "correctly classified :  7463 , 0.91886234917508\n",
      "incorrectly classified :  431 , 0.0050146600269930655\n",
      "missed detections :  659 , 0.08113765082491997\n",
      "------------------------------\n",
      "commodity =  motherboard\n",
      "correctly classified :  16557 , 0.8353683148335015\n",
      "incorrectly classified :  5220 , 0.0703030303030303\n",
      "missed detections :  3263 , 0.16463168516649848\n",
      "------------------------------\n",
      "commodity =  dock\n",
      "correctly classified :  2242 , 0.8774951076320939\n",
      "incorrectly classified :  321 , 0.0035076217013604327\n",
      "missed detections :  313 , 0.12250489236790607\n",
      "------------------------------\n",
      "commodity =  electrical_components\n",
      "correctly classified :  270 , 0.5934065934065934\n",
      "incorrectly classified :  62 , 0.0006622870266517118\n",
      "missed detections :  185 , 0.4065934065934066\n",
      "------------------------------\n",
      "commodity =  lcd\n",
      "correctly classified :  3994 , 0.8226570545829042\n",
      "incorrectly classified :  963 , 0.010794148965981057\n",
      "missed detections :  861 , 0.17734294541709578\n",
      "------------------------------\n",
      "commodity =  chassis\n",
      "correctly classified :  5105 , 0.8610220947883286\n",
      "incorrectly classified :  846 , 0.009598257337674863\n",
      "missed detections :  824 , 0.13897790521167144\n",
      "------------------------------\n",
      "commodity =  heatsink\n",
      "correctly classified :  1236 , 0.7974193548387096\n",
      "incorrectly classified :  177 , 0.0019130998702983138\n",
      "missed detections :  314 , 0.20258064516129032\n",
      "------------------------------\n",
      "commodity =  power_supply\n",
      "correctly classified :  1255 , 0.6758212170166936\n",
      "incorrectly classified :  436 , 0.004728183661739668\n",
      "missed detections :  602 , 0.32417878298330643\n",
      "------------------------------\n",
      "commodity =  touchpad\n",
      "correctly classified :  299 , 0.6937354988399071\n",
      "incorrectly classified :  63 , 0.0006727965911639381\n",
      "missed detections :  132 , 0.3062645011600928\n",
      "------------------------------\n",
      "commodity =  cables\n",
      "correctly classified :  797 , 0.393385982230997\n",
      "incorrectly classified :  306 , 0.003324496979705358\n",
      "missed detections :  1229 , 0.6066140177690029\n",
      "------------------------------\n",
      "commodity =  ac_adapter\n",
      "correctly classified :  1708 , 0.7302265925609235\n",
      "incorrectly classified :  541 , 0.005897679083406918\n",
      "missed detections :  631 , 0.2697734074390765\n",
      "------------------------------\n",
      "commodity =  fan\n",
      "correctly classified :  859 , 0.8050609184629803\n",
      "incorrectly classified :  193 , 0.0020752018752083264\n",
      "missed detections :  208 , 0.1949390815370197\n",
      "------------------------------\n",
      "commodity =  pcba_misc\n",
      "correctly classified :  436 , 0.4172248803827751\n",
      "incorrectly classified :  235 , 0.002526202633700618\n",
      "missed detections :  609 , 0.5827751196172248\n",
      "------------------------------\n",
      "commodity =  wlan\n",
      "correctly classified :  1096 , 0.8209737827715355\n",
      "incorrectly classified :  176 , 0.0018978810589313636\n",
      "missed detections :  239 , 0.17902621722846443\n",
      "------------------------------\n",
      "commodity =  mouse\n",
      "correctly classified :  2027 , 0.9432294090274547\n",
      "incorrectly classified :  110 , 0.0011966797576179545\n",
      "missed detections :  122 , 0.05677059097254537\n",
      "------------------------------\n",
      "commodity =  speaker\n",
      "correctly classified :  828 , 0.8346774193548387\n",
      "incorrectly classified :  130 , 0.0013966780549646532\n",
      "missed detections :  164 , 0.16532258064516128\n",
      "------------------------------\n",
      "commodity =  printer\n",
      "correctly classified :  329 , 0.9138888888888889\n",
      "incorrectly classified :  88 , 0.0009390673353964358\n",
      "missed detections :  31 , 0.08611111111111111\n",
      "------------------------------\n",
      "commodity =  optical_drive\n",
      "correctly classified :  786 , 0.8752783964365256\n",
      "incorrectly classified :  34 , 0.00036491649851886834\n",
      "missed detections :  112 , 0.12472160356347439\n",
      "------------------------------\n",
      "commodity =  operating_system\n",
      "correctly classified :  396 , 0.33962264150943394\n",
      "incorrectly classified :  279 , 0.003003099974166882\n",
      "missed detections :  770 , 0.660377358490566\n",
      "------------------------------\n",
      "commodity =  graphics_card\n",
      "correctly classified :  337 , 0.628731343283582\n",
      "incorrectly classified :  82 , 0.0008766865524835888\n",
      "missed detections :  199 , 0.3712686567164179\n",
      "------------------------------\n",
      "commodity =  memory\n",
      "correctly classified :  306 , 0.427972027972028\n",
      "incorrectly classified :  54 , 0.0005784371485190937\n",
      "missed detections :  409 , 0.5720279720279721\n",
      "------------------------------\n",
      "commodity =  camera\n",
      "correctly classified :  69 , 0.6571428571428571\n",
      "incorrectly classified :  20 , 0.00021284520832224764\n",
      "missed detections :  36 , 0.34285714285714286\n",
      "------------------------------\n",
      "commodity =  processor\n",
      "correctly classified :  5 , 0.09259259259259259\n",
      "incorrectly classified :  0 , 0.0\n",
      "missed detections :  49 , 0.9074074074074074\n",
      "------------------------------\n",
      "commodity =  mechanical_hardware\n",
      "correctly classified :  9 , 0.12857142857142856\n",
      "incorrectly classified :  1 , 1.0638297872340426e-05\n",
      "missed detections :  61 , 0.8714285714285714\n",
      "------------------------------\n",
      "commodity =  peripherals\n",
      "correctly classified :  2 , 0.1\n",
      "incorrectly classified :  0 , 0.0\n",
      "missed detections :  18 , 0.9\n",
      "------------------------------\n"
     ]
    }
   ],
   "source": [
    "results=print_2predictions(scoreAutoRec_hd)"
   ]
  },
  {
   "cell_type": "code",
   "execution_count": 301,
   "metadata": {
    "collapsed": true
   },
   "outputs": [],
   "source": [
    "results.to_csv(\"PRedictive_Results_Cross_validation_16012019.csv\")"
   ]
  },
  {
   "cell_type": "markdown",
   "metadata": {},
   "source": [
    "## Confusion Matrix"
   ]
  },
  {
   "cell_type": "code",
   "execution_count": 302,
   "metadata": {
    "collapsed": true
   },
   "outputs": [],
   "source": [
    "from sklearn.metrics import confusion_matrix"
   ]
  },
  {
   "cell_type": "code",
   "execution_count": 303,
   "metadata": {
    "collapsed": true
   },
   "outputs": [],
   "source": [
    "cm = pd.DataFrame(confusion_matrix(scoreAutoRec_hd.commodity_list,scoreAutoRec_hd.predicted_label,labels=list(scoreAutoRec_hd.commodity_list.unique())),\n",
    "             columns = list(scoreAutoRec_hd.commodity_list.unique()),\n",
    "             index = list(scoreAutoRec_hd.commodity_list.unique()))"
   ]
  },
  {
   "cell_type": "code",
   "execution_count": 305,
   "metadata": {
    "collapsed": true
   },
   "outputs": [],
   "source": [
    "cm.to_csv('Confusion_Matrix_TestData_Cross_validation.csv')"
   ]
  },
  {
   "cell_type": "code",
   "execution_count": 306,
   "metadata": {},
   "outputs": [
    {
     "data": {
      "text/plain": [
       "motherboard              19820\n",
       "dock                      2555\n",
       "battery                   6934\n",
       "keyboard                  8122\n",
       "hard_drive               25241\n",
       "electrical_components      455\n",
       "chassis                   5929\n",
       "power_supply              1857\n",
       "heatsink                  1550\n",
       "cables                    2026\n",
       "flat_panel_display        1424\n",
       "lcd                       4855\n",
       "pcba_misc                 1045\n",
       "ac_adapter                2339\n",
       "fan                       1067\n",
       "touchpad                   431\n",
       "wlan                      1335\n",
       "mouse                     2149\n",
       "speaker                    992\n",
       "optical_drive              898\n",
       "graphics_card              536\n",
       "mechanical_hardware         70\n",
       "operating_system          1166\n",
       "memory                     715\n",
       "printer                    360\n",
       "processor                   54\n",
       "camera                     105\n",
       "peripherals                 20\n",
       "media                       20\n",
       "dtype: int64"
      ]
     },
     "execution_count": 306,
     "metadata": {},
     "output_type": "execute_result"
    }
   ],
   "source": [
    "cm.sum(axis = 1)"
   ]
  },
  {
   "cell_type": "code",
   "execution_count": 307,
   "metadata": {
    "collapsed": true
   },
   "outputs": [],
   "source": [
    "from matplotlib import pyplot as plt"
   ]
  },
  {
   "cell_type": "code",
   "execution_count": 308,
   "metadata": {
    "collapsed": true
   },
   "outputs": [],
   "source": [
    "from sklearn.metrics import classification_report\n",
    "from sklearn.metrics import precision_recall_fscore_support"
   ]
  },
  {
   "cell_type": "code",
   "execution_count": 309,
   "metadata": {
    "collapsed": true
   },
   "outputs": [],
   "source": [
    "comm_list=sorted(list(scoreAutoRec_hd.commodity_list.unique()))\n",
    "comm_list.append('avg / tota')"
   ]
  },
  {
   "cell_type": "code",
   "execution_count": 310,
   "metadata": {
    "collapsed": true
   },
   "outputs": [],
   "source": [
    "comm_list = pd.Series(comm_list)"
   ]
  },
  {
   "cell_type": "code",
   "execution_count": 311,
   "metadata": {
    "collapsed": true
   },
   "outputs": [],
   "source": [
    "def pandas_2classification_report(y_true, y_pred):\n",
    "    metrics_summary = precision_recall_fscore_support(\n",
    "            y_true=y_true, \n",
    "            y_pred=y_pred)\n",
    "\n",
    "    avg = list(precision_recall_fscore_support(\n",
    "            y_true=y_true, \n",
    "            y_pred=y_pred,\n",
    "            average='weighted'))\n",
    "\n",
    "    metrics_sum_index = ['precision', 'recall', 'f1-score', 'support']\n",
    "    class_report_df = pd.DataFrame(\n",
    "        list(metrics_summary),\n",
    "        index=metrics_sum_index)\n",
    "\n",
    "    support = class_report_df.loc['support']\n",
    "    total = support.sum() \n",
    "    avg[-1] = total\n",
    "\n",
    "    class_report_df['avg / total'] = avg\n",
    "\n",
    "    return class_report_df.T"
   ]
  },
  {
   "cell_type": "code",
   "execution_count": 312,
   "metadata": {},
   "outputs": [
    {
     "name": "stdout",
     "output_type": "stream",
     "text": [
      "                       precision    recall  f1-score   support\n",
      "\n",
      "           ac_adapter   0.759449  0.730227  0.744551      2339\n",
      "              battery   0.883758  0.885924  0.884840      6934\n",
      "               cables   0.722575  0.393386  0.509428      2026\n",
      "               camera   0.775281  0.657143  0.711340       105\n",
      "              chassis   0.857839  0.861022  0.859428      5929\n",
      "                 dock   0.874756  0.877495  0.876123      2555\n",
      "electrical_components   0.813253  0.593407  0.686150       455\n",
      "                  fan   0.816540  0.805061  0.810760      1067\n",
      "   flat_panel_display   0.888812  0.898174  0.893468      1424\n",
      "        graphics_card   0.804296  0.628731  0.705759       536\n",
      "           hard_drive   0.898683  0.943544  0.920567     25241\n",
      "             heatsink   0.874735  0.797419  0.834290      1550\n",
      "             keyboard   0.945402  0.918862  0.931943      8122\n",
      "                  lcd   0.805729  0.822657  0.814105      4855\n",
      "  mechanical_hardware   0.900000  0.128571  0.225000        70\n",
      "                media   0.000000  0.000000  0.000000        20\n",
      "               memory   0.850000  0.427972  0.569302       715\n",
      "          motherboard   0.760298  0.835368  0.796067     19820\n",
      "                mouse   0.948526  0.943229  0.945870      2149\n",
      "     operating_system   0.586667  0.339623  0.430201      1166\n",
      "        optical_drive   0.958537  0.875278  0.915017       898\n",
      "            pcba_misc   0.649776  0.417225  0.508159      1045\n",
      "          peripherals   1.000000  0.100000  0.181818        20\n",
      "         power_supply   0.742164  0.675821  0.707441      1857\n",
      "              printer   0.788969  0.913889  0.846847       360\n",
      "            processor   1.000000  0.092593  0.169492        54\n",
      "              speaker   0.864301  0.834677  0.849231       992\n",
      "             touchpad   0.825967  0.693735  0.754098       431\n",
      "                 wlan   0.861635  0.820974  0.840813      1335\n",
      "\n",
      "          avg / total   0.844485  0.846699  0.841987     94070\n",
      "\n"
     ]
    },
    {
     "name": "stderr",
     "output_type": "stream",
     "text": [
      "/opt/microsoft/mlserver/9.2.1/runtime/python/lib/python3.5/site-packages/sklearn/metrics/classification.py:1113: UndefinedMetricWarning: Precision and F-score are ill-defined and being set to 0.0 in labels with no predicted samples.\n",
      "  'precision', 'predicted', average, warn_for)\n"
     ]
    }
   ],
   "source": [
    "print(classification_report(y_true=scoreAutoRec_hd.commodity_list, y_pred=scoreAutoRec_hd.predicted_label, digits=6))"
   ]
  },
  {
   "cell_type": "code",
   "execution_count": 313,
   "metadata": {},
   "outputs": [
    {
     "name": "stderr",
     "output_type": "stream",
     "text": [
      "/opt/microsoft/mlserver/9.2.1/runtime/python/lib/python3.5/site-packages/sklearn/metrics/classification.py:1113: UndefinedMetricWarning: Precision and F-score are ill-defined and being set to 0.0 in labels with no predicted samples.\n",
      "  'precision', 'predicted', average, warn_for)\n"
     ]
    }
   ],
   "source": [
    "df_class_report = pandas_2classification_report(y_true=scoreAutoRec_hd.commodity_list, y_pred=scoreAutoRec_hd.predicted_label)"
   ]
  },
  {
   "cell_type": "code",
   "execution_count": 314,
   "metadata": {},
   "outputs": [
    {
     "data": {
      "text/html": [
       "<div>\n",
       "<table border=\"1\" class=\"dataframe\">\n",
       "  <thead>\n",
       "    <tr style=\"text-align: right;\">\n",
       "      <th></th>\n",
       "      <th>precision</th>\n",
       "      <th>recall</th>\n",
       "      <th>f1-score</th>\n",
       "      <th>support</th>\n",
       "      <th>commodities</th>\n",
       "    </tr>\n",
       "  </thead>\n",
       "  <tbody>\n",
       "    <tr>\n",
       "      <th>0</th>\n",
       "      <td>0.759449</td>\n",
       "      <td>0.730227</td>\n",
       "      <td>0.744551</td>\n",
       "      <td>2339.0</td>\n",
       "      <td>ac_adapter</td>\n",
       "    </tr>\n",
       "    <tr>\n",
       "      <th>1</th>\n",
       "      <td>0.883758</td>\n",
       "      <td>0.885924</td>\n",
       "      <td>0.884840</td>\n",
       "      <td>6934.0</td>\n",
       "      <td>battery</td>\n",
       "    </tr>\n",
       "    <tr>\n",
       "      <th>2</th>\n",
       "      <td>0.722575</td>\n",
       "      <td>0.393386</td>\n",
       "      <td>0.509428</td>\n",
       "      <td>2026.0</td>\n",
       "      <td>cables</td>\n",
       "    </tr>\n",
       "    <tr>\n",
       "      <th>3</th>\n",
       "      <td>0.775281</td>\n",
       "      <td>0.657143</td>\n",
       "      <td>0.711340</td>\n",
       "      <td>105.0</td>\n",
       "      <td>camera</td>\n",
       "    </tr>\n",
       "    <tr>\n",
       "      <th>4</th>\n",
       "      <td>0.857839</td>\n",
       "      <td>0.861022</td>\n",
       "      <td>0.859428</td>\n",
       "      <td>5929.0</td>\n",
       "      <td>chassis</td>\n",
       "    </tr>\n",
       "    <tr>\n",
       "      <th>5</th>\n",
       "      <td>0.874756</td>\n",
       "      <td>0.877495</td>\n",
       "      <td>0.876123</td>\n",
       "      <td>2555.0</td>\n",
       "      <td>dock</td>\n",
       "    </tr>\n",
       "    <tr>\n",
       "      <th>6</th>\n",
       "      <td>0.813253</td>\n",
       "      <td>0.593407</td>\n",
       "      <td>0.686150</td>\n",
       "      <td>455.0</td>\n",
       "      <td>electrical_components</td>\n",
       "    </tr>\n",
       "    <tr>\n",
       "      <th>7</th>\n",
       "      <td>0.816540</td>\n",
       "      <td>0.805061</td>\n",
       "      <td>0.810760</td>\n",
       "      <td>1067.0</td>\n",
       "      <td>fan</td>\n",
       "    </tr>\n",
       "    <tr>\n",
       "      <th>8</th>\n",
       "      <td>0.888812</td>\n",
       "      <td>0.898174</td>\n",
       "      <td>0.893468</td>\n",
       "      <td>1424.0</td>\n",
       "      <td>flat_panel_display</td>\n",
       "    </tr>\n",
       "    <tr>\n",
       "      <th>9</th>\n",
       "      <td>0.804296</td>\n",
       "      <td>0.628731</td>\n",
       "      <td>0.705759</td>\n",
       "      <td>536.0</td>\n",
       "      <td>graphics_card</td>\n",
       "    </tr>\n",
       "    <tr>\n",
       "      <th>10</th>\n",
       "      <td>0.898683</td>\n",
       "      <td>0.943544</td>\n",
       "      <td>0.920567</td>\n",
       "      <td>25241.0</td>\n",
       "      <td>hard_drive</td>\n",
       "    </tr>\n",
       "    <tr>\n",
       "      <th>11</th>\n",
       "      <td>0.874735</td>\n",
       "      <td>0.797419</td>\n",
       "      <td>0.834290</td>\n",
       "      <td>1550.0</td>\n",
       "      <td>heatsink</td>\n",
       "    </tr>\n",
       "    <tr>\n",
       "      <th>12</th>\n",
       "      <td>0.945402</td>\n",
       "      <td>0.918862</td>\n",
       "      <td>0.931943</td>\n",
       "      <td>8122.0</td>\n",
       "      <td>keyboard</td>\n",
       "    </tr>\n",
       "    <tr>\n",
       "      <th>13</th>\n",
       "      <td>0.805729</td>\n",
       "      <td>0.822657</td>\n",
       "      <td>0.814105</td>\n",
       "      <td>4855.0</td>\n",
       "      <td>lcd</td>\n",
       "    </tr>\n",
       "    <tr>\n",
       "      <th>14</th>\n",
       "      <td>0.900000</td>\n",
       "      <td>0.128571</td>\n",
       "      <td>0.225000</td>\n",
       "      <td>70.0</td>\n",
       "      <td>mechanical_hardware</td>\n",
       "    </tr>\n",
       "    <tr>\n",
       "      <th>15</th>\n",
       "      <td>0.000000</td>\n",
       "      <td>0.000000</td>\n",
       "      <td>0.000000</td>\n",
       "      <td>20.0</td>\n",
       "      <td>media</td>\n",
       "    </tr>\n",
       "    <tr>\n",
       "      <th>16</th>\n",
       "      <td>0.850000</td>\n",
       "      <td>0.427972</td>\n",
       "      <td>0.569302</td>\n",
       "      <td>715.0</td>\n",
       "      <td>memory</td>\n",
       "    </tr>\n",
       "    <tr>\n",
       "      <th>17</th>\n",
       "      <td>0.760298</td>\n",
       "      <td>0.835368</td>\n",
       "      <td>0.796067</td>\n",
       "      <td>19820.0</td>\n",
       "      <td>motherboard</td>\n",
       "    </tr>\n",
       "    <tr>\n",
       "      <th>18</th>\n",
       "      <td>0.948526</td>\n",
       "      <td>0.943229</td>\n",
       "      <td>0.945870</td>\n",
       "      <td>2149.0</td>\n",
       "      <td>mouse</td>\n",
       "    </tr>\n",
       "    <tr>\n",
       "      <th>19</th>\n",
       "      <td>0.586667</td>\n",
       "      <td>0.339623</td>\n",
       "      <td>0.430201</td>\n",
       "      <td>1166.0</td>\n",
       "      <td>operating_system</td>\n",
       "    </tr>\n",
       "    <tr>\n",
       "      <th>20</th>\n",
       "      <td>0.958537</td>\n",
       "      <td>0.875278</td>\n",
       "      <td>0.915017</td>\n",
       "      <td>898.0</td>\n",
       "      <td>optical_drive</td>\n",
       "    </tr>\n",
       "    <tr>\n",
       "      <th>21</th>\n",
       "      <td>0.649776</td>\n",
       "      <td>0.417225</td>\n",
       "      <td>0.508159</td>\n",
       "      <td>1045.0</td>\n",
       "      <td>pcba_misc</td>\n",
       "    </tr>\n",
       "    <tr>\n",
       "      <th>22</th>\n",
       "      <td>1.000000</td>\n",
       "      <td>0.100000</td>\n",
       "      <td>0.181818</td>\n",
       "      <td>20.0</td>\n",
       "      <td>peripherals</td>\n",
       "    </tr>\n",
       "    <tr>\n",
       "      <th>23</th>\n",
       "      <td>0.742164</td>\n",
       "      <td>0.675821</td>\n",
       "      <td>0.707441</td>\n",
       "      <td>1857.0</td>\n",
       "      <td>power_supply</td>\n",
       "    </tr>\n",
       "    <tr>\n",
       "      <th>24</th>\n",
       "      <td>0.788969</td>\n",
       "      <td>0.913889</td>\n",
       "      <td>0.846847</td>\n",
       "      <td>360.0</td>\n",
       "      <td>printer</td>\n",
       "    </tr>\n",
       "    <tr>\n",
       "      <th>25</th>\n",
       "      <td>1.000000</td>\n",
       "      <td>0.092593</td>\n",
       "      <td>0.169492</td>\n",
       "      <td>54.0</td>\n",
       "      <td>processor</td>\n",
       "    </tr>\n",
       "    <tr>\n",
       "      <th>26</th>\n",
       "      <td>0.864301</td>\n",
       "      <td>0.834677</td>\n",
       "      <td>0.849231</td>\n",
       "      <td>992.0</td>\n",
       "      <td>speaker</td>\n",
       "    </tr>\n",
       "    <tr>\n",
       "      <th>27</th>\n",
       "      <td>0.825967</td>\n",
       "      <td>0.693735</td>\n",
       "      <td>0.754098</td>\n",
       "      <td>431.0</td>\n",
       "      <td>touchpad</td>\n",
       "    </tr>\n",
       "    <tr>\n",
       "      <th>28</th>\n",
       "      <td>0.861635</td>\n",
       "      <td>0.820974</td>\n",
       "      <td>0.840813</td>\n",
       "      <td>1335.0</td>\n",
       "      <td>wlan</td>\n",
       "    </tr>\n",
       "    <tr>\n",
       "      <th>29</th>\n",
       "      <td>0.844485</td>\n",
       "      <td>0.846699</td>\n",
       "      <td>0.841987</td>\n",
       "      <td>94070.0</td>\n",
       "      <td>avg / tota</td>\n",
       "    </tr>\n",
       "  </tbody>\n",
       "</table>\n",
       "</div>"
      ],
      "text/plain": [
       "    precision    recall  f1-score  support            commodities\n",
       "0    0.759449  0.730227  0.744551   2339.0             ac_adapter\n",
       "1    0.883758  0.885924  0.884840   6934.0                battery\n",
       "2    0.722575  0.393386  0.509428   2026.0                 cables\n",
       "3    0.775281  0.657143  0.711340    105.0                 camera\n",
       "4    0.857839  0.861022  0.859428   5929.0                chassis\n",
       "5    0.874756  0.877495  0.876123   2555.0                   dock\n",
       "6    0.813253  0.593407  0.686150    455.0  electrical_components\n",
       "7    0.816540  0.805061  0.810760   1067.0                    fan\n",
       "8    0.888812  0.898174  0.893468   1424.0     flat_panel_display\n",
       "9    0.804296  0.628731  0.705759    536.0          graphics_card\n",
       "10   0.898683  0.943544  0.920567  25241.0             hard_drive\n",
       "11   0.874735  0.797419  0.834290   1550.0               heatsink\n",
       "12   0.945402  0.918862  0.931943   8122.0               keyboard\n",
       "13   0.805729  0.822657  0.814105   4855.0                    lcd\n",
       "14   0.900000  0.128571  0.225000     70.0    mechanical_hardware\n",
       "15   0.000000  0.000000  0.000000     20.0                  media\n",
       "16   0.850000  0.427972  0.569302    715.0                 memory\n",
       "17   0.760298  0.835368  0.796067  19820.0            motherboard\n",
       "18   0.948526  0.943229  0.945870   2149.0                  mouse\n",
       "19   0.586667  0.339623  0.430201   1166.0       operating_system\n",
       "20   0.958537  0.875278  0.915017    898.0          optical_drive\n",
       "21   0.649776  0.417225  0.508159   1045.0              pcba_misc\n",
       "22   1.000000  0.100000  0.181818     20.0            peripherals\n",
       "23   0.742164  0.675821  0.707441   1857.0           power_supply\n",
       "24   0.788969  0.913889  0.846847    360.0                printer\n",
       "25   1.000000  0.092593  0.169492     54.0              processor\n",
       "26   0.864301  0.834677  0.849231    992.0                speaker\n",
       "27   0.825967  0.693735  0.754098    431.0               touchpad\n",
       "28   0.861635  0.820974  0.840813   1335.0                   wlan\n",
       "29   0.844485  0.846699  0.841987  94070.0             avg / tota"
      ]
     },
     "execution_count": 314,
     "metadata": {},
     "output_type": "execute_result"
    }
   ],
   "source": [
    "df_class_report['commodities'] = comm_list.values\n",
    "df_class_report.reset_index(drop=True)"
   ]
  },
  {
   "cell_type": "code",
   "execution_count": 315,
   "metadata": {
    "collapsed": true
   },
   "outputs": [],
   "source": [
    "df_class_report.to_csv('Precision_Recall_Matrix_Testdata_Cross_Validation.csv')"
   ]
  },
  {
   "cell_type": "code",
   "execution_count": 316,
   "metadata": {
    "scrolled": true
   },
   "outputs": [
    {
     "name": "stderr",
     "output_type": "stream",
     "text": [
      "/opt/microsoft/mlserver/9.2.1/runtime/python/lib/python3.5/site-packages/matplotlib/font_manager.py:1297: UserWarning: findfont: Font family ['sans-serif'] not found. Falling back to DejaVu Sans\n",
      "  (prop.get_family(), self.defaultFamily[fontext]))\n"
     ]
    },
    {
     "data": {
      "image/png": "[encoded data removed]",
      "text/plain": [
       "<matplotlib.figure.Figure at 0x7fa7e67fdb38>"
      ]
     },
     "metadata": {},
     "output_type": "display_data"
    }
   ],
   "source": [
    "match5 = get_match5(scoreAutoRec_hd['commodity_list'],scoreAutoRec_hd['predicted_label'])\n",
    "numrows = 25\n",
    "cmplotname = ('CM_Hard_wAFT.png')\n",
    "plot_match5(match5,numrows,cmplotname)"
   ]
  },
  {
   "cell_type": "markdown",
   "metadata": {},
   "source": [
    "## Notebook Information:"
   ]
  },
  {
   "cell_type": "code",
   "execution_count": 317,
   "metadata": {},
   "outputs": [
    {
     "data": {
      "application/javascript": [
       "Jupyter.notebook.kernel.execute(                       \"this_notebook = \" + \"'\"                       +Jupyter.notebook.notebook_name+\"'\");"
      ],
      "text/plain": [
       "<IPython.core.display.Javascript object>"
      ]
     },
     "metadata": {},
     "output_type": "display_data"
    }
   ],
   "source": [
    "## Notebook Information:\n",
    "\n",
    "\n",
    "import os\n",
    "from IPython.core.display import Javascript\n",
    "from IPython.display import display\n",
    "import datetime\n",
    "display(Javascript('Jupyter.notebook.kernel.execute(\\\n",
    "                       \"this_notebook = \" + \"\\'\"\\\n",
    "                       +Jupyter.notebook.notebook_name+\"\\'\");'))"
   ]
  },
  {
   "cell_type": "code",
   "execution_count": 318,
   "metadata": {},
   "outputs": [
    {
     "name": "stdout",
     "output_type": "stream",
     "text": [
      "Hard_Model_Single_Commodity_StratifiedCrossValidaation_Cparameter_Tunning_Harshal_2\n"
     ]
    }
   ],
   "source": [
    "NOTEBOOK_NAME = this_notebook.split('.')[0]\n",
    "print(NOTEBOOK_NAME)\n"
   ]
  },
  {
   "cell_type": "code",
   "execution_count": 320,
   "metadata": {},
   "outputs": [
    {
     "name": "stdout",
     "output_type": "stream",
     "text": [
      "Hard_Model_Single_Commodity_StratifiedCrossValidaation_Cparameter_Tunning_Harshal_2_time_20190116_1553.pkl\n"
     ]
    }
   ],
   "source": [
    "pkl_filename =  NOTEBOOK_NAME +'_time_' + datetime.datetime.strftime(datetime.datetime.now(), '%Y%m%d_%H%S') + '.pkl'\n",
    "\n",
    "print(pkl_filename)"
   ]
  },
  {
   "cell_type": "code",
   "execution_count": 324,
   "metadata": {
    "collapsed": true
   },
   "outputs": [],
   "source": [
    "from sklearn.externals import joblib"
   ]
  },
  {
   "cell_type": "code",
   "execution_count": 325,
   "metadata": {},
   "outputs": [
    {
     "data": {
      "text/plain": [
       "['Hard_Model_Single_Commodity_StratifiedCrossValidaation_Cparameter_Tunning_Harshal_2_time_20190116_1553.pkl']"
      ]
     },
     "execution_count": 325,
     "metadata": {},
     "output_type": "execute_result"
    }
   ],
   "source": [
    "joblib.dump(auto_rec_model, pkl_filename) "
   ]
  },
  {
   "cell_type": "code",
   "execution_count": 208,
   "metadata": {},
   "outputs": [
    {
     "data": {
      "text/plain": [
       "LogisticRegression(C=3.0, class_weight=None, dual=False, fit_intercept=True,\n",
       "          intercept_scaling=1, max_iter=100, multi_class='multinomial',\n",
       "          n_jobs=1, penalty='l2', random_state=None, solver='sag',\n",
       "          tol=0.001, verbose=False, warm_start=False)"
      ]
     },
     "execution_count": 208,
     "metadata": {},
     "output_type": "execute_result"
    }
   ],
   "source": [
    "auto_rec_model.steps[1][1]\n"
   ]
  },
  {
   "cell_type": "code",
   "execution_count": 209,
   "metadata": {},
   "outputs": [
    {
     "data": {
      "text/plain": [
       "('tfidf', TfidfVectorizer(analyzer='word', binary=False, decode_error='strict',\n",
       "         dtype=<class 'numpy.int64'>, encoding='utf-8', input='content',\n",
       "         lowercase=True, max_df=1.0, max_features=None, min_df=1,\n",
       "         ngram_range=(1, 2), norm='l2', preprocessor=None, smooth_idf=True,\n",
       "         stop_words=None, strip_accents=None, sublinear_tf=False,\n",
       "         token_pattern='(?u)\\\\b\\\\w\\\\w+\\\\b', tokenizer=None, use_idf=True,\n",
       "         vocabulary=None))"
      ]
     },
     "execution_count": 209,
     "metadata": {},
     "output_type": "execute_result"
    }
   ],
   "source": [
    "auto_rec_model.steps[0]"
   ]
  }
 ],
 "metadata": {
  "kernelspec": {
   "display_name": "Python 3",
   "language": "python",
   "name": "python3"
  },
  "language_info": {
   "codemirror_mode": {
    "name": "ipython",
    "version": 3
   },
   "file_extension": ".py",
   "mimetype": "text/x-python",
   "name": "python",
   "nbconvert_exporter": "python",
   "pygments_lexer": "ipython3",
   "version": "3.6.5"
  }
 },
 "nbformat": 4,
 "nbformat_minor": 2
}
